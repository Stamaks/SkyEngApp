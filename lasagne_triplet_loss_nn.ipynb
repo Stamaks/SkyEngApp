{
 "cells": [
  {
   "cell_type": "code",
   "execution_count": 204,
   "metadata": {
    "collapsed": false
   },
   "outputs": [
    {
     "name": "stdout",
     "output_type": "stream",
     "text": [
      "env: THEANO_FLAGS=\"divice=gpu5\"\n"
     ]
    }
   ],
   "source": [
    "%env THEANO_FLAGS=\"divice=gpu5\"\n",
    "import numpy as np\n",
    "import pandas as pd\n",
    "\n",
    "import theano\n",
    "import seaborn as sns\n",
    "sns.set_style('white')\n",
    "import theano.tensor as T\n",
    "\n",
    "import scipy.io.wavfile as wav\n",
    "import pickle\n",
    "import random\n",
    "\n",
    "from numpy import linalg as la, random as rnd\n",
    "\n",
    "import matplotlib.pyplot as plt\n",
    "%matplotlib inline\n",
    "\n",
    "from collections import Counter\n",
    "\n",
    "import lasagne\n",
    "\n",
    "\n",
    "from sklearn.cross_validation import train_test_split\n",
    "from sklearn.metrics import accuracy_score"
   ]
  },
  {
   "cell_type": "code",
   "execution_count": 2,
   "metadata": {
    "collapsed": true
   },
   "outputs": [],
   "source": [
    "def retrieve_preprocessed_data(fname='valid_data'):\n",
    "    data_from_file = np.load('{}.npz'.format(fname))\n",
    "    data_table = pd.read_csv('{}.csv'.format(fname))\n",
    "    data_dict = np.asscalar(data_from_file['arr_0'])\n",
    "    return data_table, data_dict['timesequences'], data_dict['spectrograms']"
   ]
  },
  {
   "cell_type": "code",
   "execution_count": 3,
   "metadata": {
    "collapsed": false
   },
   "outputs": [],
   "source": [
    "valid_data, valid_timesequences, valid_spectrograms = retrieve_preprocessed_data('valid_data')"
   ]
  },
  {
   "cell_type": "code",
   "execution_count": 4,
   "metadata": {
    "collapsed": false
   },
   "outputs": [
    {
     "data": {
      "text/plain": [
       "((4088, 5), (4088, 11025), (4088, 128, 22))"
      ]
     },
     "execution_count": 4,
     "metadata": {},
     "output_type": "execute_result"
    }
   ],
   "source": [
    "valid_data.shape, valid_timesequences.shape, valid_spectrograms.shape"
   ]
  },
  {
   "cell_type": "code",
   "execution_count": 5,
   "metadata": {
    "collapsed": false
   },
   "outputs": [],
   "source": [
    "valid_spectrograms = valid_spectrograms.astype('float32')"
   ]
  },
  {
   "cell_type": "code",
   "execution_count": 6,
   "metadata": {
    "collapsed": false
   },
   "outputs": [],
   "source": [
    "valid_data = valid_data.drop(['Unnamed: 0'], axis=1)"
   ]
  },
  {
   "cell_type": "code",
   "execution_count": 7,
   "metadata": {
    "collapsed": false
   },
   "outputs": [
    {
     "data": {
      "text/html": [
       "<div>\n",
       "<table border=\"1\" class=\"dataframe\">\n",
       "  <thead>\n",
       "    <tr style=\"text-align: right;\">\n",
       "      <th></th>\n",
       "      <th>words</th>\n",
       "      <th>authors</th>\n",
       "      <th>links</th>\n",
       "      <th>matrix_index</th>\n",
       "    </tr>\n",
       "  </thead>\n",
       "  <tbody>\n",
       "    <tr>\n",
       "      <th>0</th>\n",
       "      <td>Бенилюкс</td>\n",
       "      <td>ivga</td>\n",
       "      <td>http://ru.forvo.com/word/%D0%B1%D0%B5%D0%BD%D0...</td>\n",
       "      <td>0</td>\n",
       "    </tr>\n",
       "    <tr>\n",
       "      <th>1</th>\n",
       "      <td>большая гармония гласных</td>\n",
       "      <td>rutre15</td>\n",
       "      <td>http://ru.forvo.com/word/%D0%B1%D0%BE%D0%BB%D1...</td>\n",
       "      <td>1</td>\n",
       "    </tr>\n",
       "    <tr>\n",
       "      <th>2</th>\n",
       "      <td>малая гармония гласных</td>\n",
       "      <td>rutre15</td>\n",
       "      <td>http://ru.forvo.com/word/%D0%BC%D0%B0%D0%BB%D0...</td>\n",
       "      <td>2</td>\n",
       "    </tr>\n",
       "    <tr>\n",
       "      <th>3</th>\n",
       "      <td>бумажный стаканчик</td>\n",
       "      <td>Patient228</td>\n",
       "      <td>http://ru.forvo.com/word/%D0%B1%D1%83%D0%BC%D0...</td>\n",
       "      <td>3</td>\n",
       "    </tr>\n",
       "    <tr>\n",
       "      <th>4</th>\n",
       "      <td>бумажный стаканчик</td>\n",
       "      <td>rutre15</td>\n",
       "      <td>http://ru.forvo.com/word/%D0%B1%D1%83%D0%BC%D0...</td>\n",
       "      <td>4</td>\n",
       "    </tr>\n",
       "  </tbody>\n",
       "</table>\n",
       "</div>"
      ],
      "text/plain": [
       "                      words     authors  \\\n",
       "0                  Бенилюкс        ivga   \n",
       "1  большая гармония гласных     rutre15   \n",
       "2    малая гармония гласных     rutre15   \n",
       "3        бумажный стаканчик  Patient228   \n",
       "4        бумажный стаканчик     rutre15   \n",
       "\n",
       "                                               links  matrix_index  \n",
       "0  http://ru.forvo.com/word/%D0%B1%D0%B5%D0%BD%D0...             0  \n",
       "1  http://ru.forvo.com/word/%D0%B1%D0%BE%D0%BB%D1...             1  \n",
       "2  http://ru.forvo.com/word/%D0%BC%D0%B0%D0%BB%D0...             2  \n",
       "3  http://ru.forvo.com/word/%D0%B1%D1%83%D0%BC%D0...             3  \n",
       "4  http://ru.forvo.com/word/%D0%B1%D1%83%D0%BC%D0...             4  "
      ]
     },
     "execution_count": 7,
     "metadata": {},
     "output_type": "execute_result"
    }
   ],
   "source": [
    "valid_data.head()"
   ]
  },
  {
   "cell_type": "markdown",
   "metadata": {},
   "source": [
    "# Data"
   ]
  },
  {
   "cell_type": "code",
   "execution_count": 8,
   "metadata": {
    "collapsed": true
   },
   "outputs": [],
   "source": [
    "import pickle\n",
    "answer = pickle.load(open('dataset/ajnsdjasnd.pcl','rb'))"
   ]
  },
  {
   "cell_type": "code",
   "execution_count": 9,
   "metadata": {
    "collapsed": true
   },
   "outputs": [],
   "source": [
    "data = pd.DataFrame.from_csv('data.csv')"
   ]
  },
  {
   "cell_type": "code",
   "execution_count": 10,
   "metadata": {
    "collapsed": false,
    "scrolled": true
   },
   "outputs": [
    {
     "data": {
      "text/html": [
       "<div>\n",
       "<table border=\"1\" class=\"dataframe\">\n",
       "  <thead>\n",
       "    <tr style=\"text-align: right;\">\n",
       "      <th></th>\n",
       "      <th>words</th>\n",
       "      <th>authors</th>\n",
       "      <th>links</th>\n",
       "    </tr>\n",
       "  </thead>\n",
       "  <tbody>\n",
       "    <tr>\n",
       "      <th>0</th>\n",
       "      <td>Бенилюкс</td>\n",
       "      <td>ivga</td>\n",
       "      <td>http://ru.forvo.com/word/%D0%B1%D0%B5%D0%BD%D0...</td>\n",
       "    </tr>\n",
       "    <tr>\n",
       "      <th>1</th>\n",
       "      <td>большая гармония гласных</td>\n",
       "      <td>rutre15</td>\n",
       "      <td>http://ru.forvo.com/word/%D0%B1%D0%BE%D0%BB%D1...</td>\n",
       "    </tr>\n",
       "    <tr>\n",
       "      <th>2</th>\n",
       "      <td>малая гармония гласных</td>\n",
       "      <td>rutre15</td>\n",
       "      <td>http://ru.forvo.com/word/%D0%BC%D0%B0%D0%BB%D0...</td>\n",
       "    </tr>\n",
       "    <tr>\n",
       "      <th>3</th>\n",
       "      <td>бумажный стаканчик</td>\n",
       "      <td>Patient228</td>\n",
       "      <td>http://ru.forvo.com/word/%D0%B1%D1%83%D0%BC%D0...</td>\n",
       "    </tr>\n",
       "    <tr>\n",
       "      <th>4</th>\n",
       "      <td>бумажный стаканчик</td>\n",
       "      <td>rutre15</td>\n",
       "      <td>http://ru.forvo.com/word/%D0%B1%D1%83%D0%BC%D0...</td>\n",
       "    </tr>\n",
       "  </tbody>\n",
       "</table>\n",
       "</div>"
      ],
      "text/plain": [
       "                      words     authors  \\\n",
       "0                  Бенилюкс        ivga   \n",
       "1  большая гармония гласных     rutre15   \n",
       "2    малая гармония гласных     rutre15   \n",
       "3        бумажный стаканчик  Patient228   \n",
       "4        бумажный стаканчик     rutre15   \n",
       "\n",
       "                                               links  \n",
       "0  http://ru.forvo.com/word/%D0%B1%D0%B5%D0%BD%D0...  \n",
       "1  http://ru.forvo.com/word/%D0%B1%D0%BE%D0%BB%D1...  \n",
       "2  http://ru.forvo.com/word/%D0%BC%D0%B0%D0%BB%D0...  \n",
       "3  http://ru.forvo.com/word/%D0%B1%D1%83%D0%BC%D0...  \n",
       "4  http://ru.forvo.com/word/%D0%B1%D1%83%D0%BC%D0...  "
      ]
     },
     "execution_count": 10,
     "metadata": {},
     "output_type": "execute_result"
    }
   ],
   "source": [
    "data.head()"
   ]
  },
  {
   "cell_type": "code",
   "execution_count": 11,
   "metadata": {
    "collapsed": false
   },
   "outputs": [],
   "source": [
    "answer_T = {v: k for k, v in answer.items()}"
   ]
  },
  {
   "cell_type": "code",
   "execution_count": 12,
   "metadata": {
    "collapsed": true
   },
   "outputs": [],
   "source": [
    "from sklearn.cross_validation import train_test_split"
   ]
  },
  {
   "cell_type": "code",
   "execution_count": 13,
   "metadata": {
    "collapsed": true
   },
   "outputs": [],
   "source": [
    "dtrain, dtest, tstrain, tstest, sptrain, sptest = train_test_split(valid_data, valid_timesequences, valid_spectrograms)"
   ]
  },
  {
   "cell_type": "code",
   "execution_count": 14,
   "metadata": {
    "collapsed": false
   },
   "outputs": [
    {
     "data": {
      "text/plain": [
       "[3066, 1022, 3066, 1022, 3066, 1022]"
      ]
     },
     "execution_count": 14,
     "metadata": {},
     "output_type": "execute_result"
    }
   ],
   "source": [
    "[len(a) for a in [dtrain, dtest, tstrain, tstest, sptrain, sptest]]"
   ]
  },
  {
   "cell_type": "markdown",
   "metadata": {},
   "source": [
    "# Neuronet"
   ]
  },
  {
   "cell_type": "code",
   "execution_count": 231,
   "metadata": {
    "collapsed": false
   },
   "outputs": [],
   "source": [
    "input_X = T.tensor4(\"X\", dtype='float32')"
   ]
  },
  {
   "cell_type": "code",
   "execution_count": 237,
   "metadata": {
    "collapsed": false
   },
   "outputs": [],
   "source": [
    "#\n",
    "#\n",
    "#    FIRST INPUT\n",
    "#\n",
    "#\n",
    "\n",
    "\n",
    "\n",
    "input_layer = lasagne.layers.InputLayer(shape = (None, None, 22, 128), input_var=input_X.swapaxes(2,3))\n",
    "\n",
    "nn = lasagne.layers.ReshapeLayer(input_layer, (-1, 22, 128))\n",
    "\n",
    "# ---\n",
    "\n",
    "nn = lasagne.layers.Conv1DLayer(nn, num_filters = 16, filter_size = 3,\n",
    "                                    nonlinearity= lasagne.nonlinearities.very_leaky_rectify)\n",
    "nn = lasagne.layers.MaxPool1DLayer(nn, 2)\n",
    "\n",
    "# ---\n",
    "\n",
    "nn = lasagne.layers.GlobalPoolLayer(nn)\n",
    "\n",
    "# ---\n",
    "\n",
    "nn = lasagne.layers.DenseLayer(nn, num_units = 64, nonlinearity=lasagne.nonlinearities.very_leaky_rectify)\n",
    "\n",
    "n = 16\n",
    "\n",
    "nn = lasagne.layers.DenseLayer(nn, num_units = n, nonlinearity=lasagne.nonlinearities.identity,\n",
    "                                        name='output')\n",
    "\n",
    "dense_output = lasagne.layers.ReshapeLayer(nn, (-1, 3, n)) # for loss\n",
    "\n",
    "dense_out = lasagne.layers.ReshapeLayer(nn, (-1, 2, n)) # for use"
   ]
  },
  {
   "cell_type": "code",
   "execution_count": 241,
   "metadata": {
    "collapsed": false
   },
   "outputs": [],
   "source": [
    "#предсказание нейронки (theano-преобразование)\n",
    "y_predicted = lasagne.layers.get_output(dense_output) # for loss\n",
    "\n",
    "y_pred = lasagne.layers.get_output(dense_out) # for use\n",
    "\n",
    "#все веса нейронки (shared-переменные)\n",
    "all_weights = lasagne.layers.get_all_params(dense_output,trainable=True)\n",
    "\n",
    "#функция ошибки\n",
    "loss = (T.maximum(T.sum(T.sqr(y_predicted[:, 0] - y_predicted[:, 2])) + 1e-2, 0)\n",
    "        - T.maximum(T.sum(T.sqr(y_predicted[:, 0] - y_predicted[:, 1])) + 1e-2, 0))\n",
    "\n",
    "def th_vec_len(v):\n",
    "    return T.sqrt(T.sum(T.sqr(v + 1e-5)))\n",
    "\n",
    "def th_cos_distance(v1, v2):\n",
    "    return T.dot(v1, v2) / (th_vec_len(v1) * th_vec_len(v2))\n",
    "\n",
    "#loss = (T.maximum(th_cos_distance(y_predicted[:, 0], y_predicted[:, 1]) + 1e-2, 0)\n",
    "#            - T.maximum(th_cos_distance(y_predicted[:, 0], y_predicted[:, 2]) + 1e-2, 0))\n",
    "\n",
    "#сразу посчитать словарь обновлённых значений с шагом по градиенту, как раньше\n",
    "updates_sgd = lasagne.updates.adam(loss,all_weights,learning_rate = 0.01)\n",
    "\n",
    "#функция, которая обучает сеть на 1 шаг и возвращащет значение функции потерь и точности\n",
    "train_fun = theano.function([input_X],[loss],updates= updates_sgd)\n",
    "\n",
    "#функция, которая считает точность\n",
    "predict = theano.function([input_X], y_pred)"
   ]
  },
  {
   "cell_type": "markdown",
   "metadata": {},
   "source": [
    "# Data"
   ]
  },
  {
   "cell_type": "code",
   "execution_count": 245,
   "metadata": {
    "collapsed": false
   },
   "outputs": [],
   "source": [
    "valid_spectrograms /= np.max(np.abs(valid_spectrograms))"
   ]
  },
  {
   "cell_type": "code",
   "execution_count": 243,
   "metadata": {
    "collapsed": false
   },
   "outputs": [
    {
     "name": "stdout",
     "output_type": "stream",
     "text": [
      "4088\n"
     ]
    },
    {
     "data": {
      "text/html": [
       "<div>\n",
       "<table border=\"1\" class=\"dataframe\">\n",
       "  <thead>\n",
       "    <tr style=\"text-align: right;\">\n",
       "      <th></th>\n",
       "      <th>words</th>\n",
       "      <th>authors</th>\n",
       "      <th>links</th>\n",
       "      <th>matrix_index</th>\n",
       "    </tr>\n",
       "  </thead>\n",
       "  <tbody>\n",
       "    <tr>\n",
       "      <th>0</th>\n",
       "      <td>Бенилюкс</td>\n",
       "      <td>ivga</td>\n",
       "      <td>http://ru.forvo.com/word/%D0%B1%D0%B5%D0%BD%D0...</td>\n",
       "      <td>0</td>\n",
       "    </tr>\n",
       "    <tr>\n",
       "      <th>1</th>\n",
       "      <td>большая гармония гласных</td>\n",
       "      <td>rutre15</td>\n",
       "      <td>http://ru.forvo.com/word/%D0%B1%D0%BE%D0%BB%D1...</td>\n",
       "      <td>1</td>\n",
       "    </tr>\n",
       "    <tr>\n",
       "      <th>2</th>\n",
       "      <td>малая гармония гласных</td>\n",
       "      <td>rutre15</td>\n",
       "      <td>http://ru.forvo.com/word/%D0%BC%D0%B0%D0%BB%D0...</td>\n",
       "      <td>2</td>\n",
       "    </tr>\n",
       "    <tr>\n",
       "      <th>3</th>\n",
       "      <td>бумажный стаканчик</td>\n",
       "      <td>Patient228</td>\n",
       "      <td>http://ru.forvo.com/word/%D0%B1%D1%83%D0%BC%D0...</td>\n",
       "      <td>3</td>\n",
       "    </tr>\n",
       "    <tr>\n",
       "      <th>4</th>\n",
       "      <td>бумажный стаканчик</td>\n",
       "      <td>rutre15</td>\n",
       "      <td>http://ru.forvo.com/word/%D0%B1%D1%83%D0%BC%D0...</td>\n",
       "      <td>4</td>\n",
       "    </tr>\n",
       "  </tbody>\n",
       "</table>\n",
       "</div>"
      ],
      "text/plain": [
       "                      words     authors  \\\n",
       "0                  Бенилюкс        ivga   \n",
       "1  большая гармония гласных     rutre15   \n",
       "2    малая гармония гласных     rutre15   \n",
       "3        бумажный стаканчик  Patient228   \n",
       "4        бумажный стаканчик     rutre15   \n",
       "\n",
       "                                               links  matrix_index  \n",
       "0  http://ru.forvo.com/word/%D0%B1%D0%B5%D0%BD%D0...             0  \n",
       "1  http://ru.forvo.com/word/%D0%B1%D0%BE%D0%BB%D1...             1  \n",
       "2  http://ru.forvo.com/word/%D0%BC%D0%B0%D0%BB%D0...             2  \n",
       "3  http://ru.forvo.com/word/%D0%B1%D1%83%D0%BC%D0...             3  \n",
       "4  http://ru.forvo.com/word/%D0%B1%D1%83%D0%BC%D0...             4  "
      ]
     },
     "execution_count": 243,
     "metadata": {},
     "output_type": "execute_result"
    }
   ],
   "source": [
    "print(len(valid_data))\n",
    "valid_data.head()"
   ]
  },
  {
   "cell_type": "code",
   "execution_count": 246,
   "metadata": {
    "collapsed": false
   },
   "outputs": [],
   "source": [
    "index_pool = set(valid_data['matrix_index'])"
   ]
  },
  {
   "cell_type": "code",
   "execution_count": 247,
   "metadata": {
    "collapsed": true
   },
   "outputs": [],
   "source": [
    "author_index_pool = {author: set(valid_data[valid_data['authors'] == author]['matrix_index']) \\\n",
    "                     for author in valid_data['authors'].unique()}"
   ]
  },
  {
   "cell_type": "code",
   "execution_count": 248,
   "metadata": {
    "collapsed": false
   },
   "outputs": [],
   "source": [
    "pp = np.array([len(v) for v in list(author_index_pool.values())])"
   ]
  },
  {
   "cell_type": "code",
   "execution_count": 249,
   "metadata": {
    "collapsed": false
   },
   "outputs": [],
   "source": [
    "def train_test_authors(valid_data, prob2train=0.5):\n",
    "    index_pool = set(valid_data['matrix_index'])\n",
    "    author_index_pool = {author: set(valid_data[valid_data['authors'] == author]['matrix_index']) \\\n",
    "                     for author in valid_data['authors'].unique()}\n",
    "    train_authors = {author for author in author_index_pool if len(author_index_pool[author]) >= 3}\n",
    "    #test_authors = {author for author in author_index_pool if len(author_index_pool[author]) == 1}\n",
    "    test_authors = set()\n",
    "    neutral_authors = {author for author in author_index_pool if len(author_index_pool[author]) == 2}\n",
    "    go2train_authors = set(np.random.choice(list(neutral_authors), int(prob2train * len(neutral_authors))))\n",
    "    train_authors = train_authors.union(go2train_authors)\n",
    "    test_authors = test_authors.union(neutral_authors - go2train_authors)\n",
    "    print('is train disjoint with test? {}'.format(train_authors.isdisjoint(test_authors)))\n",
    "    return train_authors, test_authors"
   ]
  },
  {
   "cell_type": "code",
   "execution_count": 250,
   "metadata": {
    "collapsed": false
   },
   "outputs": [
    {
     "name": "stdout",
     "output_type": "stream",
     "text": [
      "is train disjoint with test? True\n"
     ]
    }
   ],
   "source": [
    "train_authors, test_authors = train_test_authors(valid_data)"
   ]
  },
  {
   "cell_type": "code",
   "execution_count": 251,
   "metadata": {
    "collapsed": false
   },
   "outputs": [],
   "source": [
    "train_author_index_pool = {k:v for (k, v) in author_index_pool.items() if k in train_authors}\n",
    "test_author_index_pool = {k:v for (k, v) in author_index_pool.items() if k in test_authors}"
   ]
  },
  {
   "cell_type": "code",
   "execution_count": 252,
   "metadata": {
    "collapsed": true
   },
   "outputs": [],
   "source": [
    "train_index_pool = set()\n",
    "for author_index in train_author_index_pool.values():\n",
    "    train_index_pool = train_index_pool.union(author_index)"
   ]
  },
  {
   "cell_type": "code",
   "execution_count": 253,
   "metadata": {
    "collapsed": false
   },
   "outputs": [],
   "source": [
    "test_index_pool = set()\n",
    "for author_index in test_author_index_pool.values():\n",
    "    test_index_pool = test_index_pool.union(author_index)\n",
    "\n",
    "#test_index_pool = index_pool - train_index_pool"
   ]
  },
  {
   "cell_type": "code",
   "execution_count": 254,
   "metadata": {
    "collapsed": false
   },
   "outputs": [],
   "source": [
    "def generate_train_batch(spectrograms,\n",
    "                         train_author_index_pool,\n",
    "                         train_index_pool,\n",
    "                         batch_size):\n",
    "    batch_authors = np.random.choice(list(train_author_index_pool.keys()), batch_size, replace=True)\n",
    "    first_indices = []\n",
    "    second_indices = []\n",
    "    third_indices = []\n",
    "    for author in batch_authors:\n",
    "        author_pool = train_author_index_pool[author]\n",
    "        first_index = np.random.choice(list(author_pool), 1)[0]\n",
    "        second_index = np.random.choice(list(author_pool - {first_index}), 1)[0]\n",
    "        third_index = np.random.choice(list(train_index_pool - author_pool), 1)[0]\n",
    "    return np.stack([spectrograms[first_index], spectrograms[second_index], spectrograms[third_index]], axis=0)\n",
    "\n",
    "def generate_test_indices(spectrograms,\n",
    "                         test_author_index_pool,\n",
    "                         test_index_pool,\n",
    "                         only_similar=True):\n",
    "    first_indices = []\n",
    "    second_indices = []\n",
    "    similar = []\n",
    "    for author in test_author_index_pool.keys():\n",
    "        for first_index in test_author_index_pool[author]:\n",
    "            for second_index in (test_author_index_pool[author] - {first_index}):\n",
    "                # process all similar samples\n",
    "                first_indices.append(first_index)\n",
    "                second_indices.append(second_index)\n",
    "                similar.append(True)\n",
    "            if not only_similar:\n",
    "                for second_index in (test_index_pool - test_author_index_pool[author]):\n",
    "                    # process all distinct samples\n",
    "                    first_indices.append(first_index)\n",
    "                    second_indices.append(second_index)\n",
    "                    similar.append(False)                \n",
    "    return np.array(first_indices, dtype='int'), np.array(second_indices, dtype='int'), np.array(similar, dtype='bool')"
   ]
  },
  {
   "cell_type": "code",
   "execution_count": 255,
   "metadata": {
    "collapsed": true
   },
   "outputs": [],
   "source": [
    "f, s, sm = generate_test_indices(valid_spectrograms, test_author_index_pool, test_index_pool, only_similar=True)"
   ]
  },
  {
   "cell_type": "code",
   "execution_count": 256,
   "metadata": {
    "collapsed": false
   },
   "outputs": [
    {
     "data": {
      "text/plain": [
       "144"
      ]
     },
     "execution_count": 256,
     "metadata": {},
     "output_type": "execute_result"
    }
   ],
   "source": [
    "f.size"
   ]
  },
  {
   "cell_type": "code",
   "execution_count": 257,
   "metadata": {
    "collapsed": false
   },
   "outputs": [
    {
     "data": {
      "text/plain": [
       "1.0"
      ]
     },
     "execution_count": 257,
     "metadata": {},
     "output_type": "execute_result"
    }
   ],
   "source": [
    "np.average(sm)"
   ]
  },
  {
   "cell_type": "code",
   "execution_count": 258,
   "metadata": {
    "collapsed": true
   },
   "outputs": [],
   "source": [
    "validate_predictions = [predict(np.stack([valid_spectrograms[f], valid_spectrograms[s]], axis=0))]"
   ]
  },
  {
   "cell_type": "code",
   "execution_count": null,
   "metadata": {
    "collapsed": true
   },
   "outputs": [],
   "source": [
    "www = generate_train_batch(valid_spectrograms,\n",
    "                                           train_author_index_pool,\n",
    "                                           train_index_pool,\n",
    "                                           batch_size=len(train_authors))"
   ]
  },
  {
   "cell_type": "code",
   "execution_count": null,
   "metadata": {
    "collapsed": true
   },
   "outputs": [],
   "source": []
  },
  {
   "cell_type": "code",
   "execution_count": null,
   "metadata": {
    "collapsed": true
   },
   "outputs": [],
   "source": []
  },
  {
   "cell_type": "code",
   "execution_count": null,
   "metadata": {
    "collapsed": true
   },
   "outputs": [],
   "source": []
  },
  {
   "cell_type": "code",
   "execution_count": null,
   "metadata": {
    "collapsed": true
   },
   "outputs": [],
   "source": []
  },
  {
   "cell_type": "code",
   "execution_count": null,
   "metadata": {
    "collapsed": true
   },
   "outputs": [],
   "source": []
  },
  {
   "cell_type": "code",
   "execution_count": 259,
   "metadata": {
    "collapsed": false
   },
   "outputs": [
    {
     "name": "stdout",
     "output_type": "stream",
     "text": [
      "Epoch :0\n",
      "Epoch :1\n",
      "Epoch :2\n",
      "Epoch :3\n",
      "Epoch :4\n",
      "Epoch :5\n",
      "Epoch :6\n",
      "Epoch :7\n",
      "Epoch :8\n",
      "Epoch :9\n"
     ]
    }
   ],
   "source": [
    "batch_size=200\n",
    "niters=100\n",
    "nepochs = 10\n",
    "for epoch in range(nepochs):\n",
    "    print('Epoch :{}'.format(epoch), flush=True)\n",
    "    for i in range(niters):\n",
    "        train_input = generate_train_batch(valid_spectrograms,\n",
    "                                           train_author_index_pool,\n",
    "                                           train_index_pool,\n",
    "                                           batch_size=len(train_authors))\n",
    "    f, s, sm = generate_test_indices(valid_spectrograms, test_author_index_pool, test_index_pool)\n",
    "    validate_predictions.append(predict(np.stack([valid_spectrograms[f], valid_spectrograms[s]], axis=0)))"
   ]
  },
  {
   "cell_type": "code",
   "execution_count": 191,
   "metadata": {
    "collapsed": false
   },
   "outputs": [
    {
     "name": "stdout",
     "output_type": "stream",
     "text": [
      "(148, 2, 16)\n"
     ]
    }
   ],
   "source": [
    "val_size = validate_predictions[0].shape[0]\n",
    "print(validate_predictions[2].shape)"
   ]
  },
  {
   "cell_type": "code",
   "execution_count": 192,
   "metadata": {
    "collapsed": false
   },
   "outputs": [],
   "source": [
    "def cosine_similarity(v1, v2):\n",
    "    return (v1 @ v2) / ((la.norm(v1)**2 + 1e-5) * (la.norm(v2)**2 + 1e-5))"
   ]
  },
  {
   "cell_type": "code",
   "execution_count": 193,
   "metadata": {
    "collapsed": false
   },
   "outputs": [],
   "source": [
    "def all_cosine_similarity(vec1, vec2):\n",
    "    return np.stack([cosine_similarity(v1, v2) for (v1, v2) in zip(vec1, vec2)], axis=0)\n",
    "\n",
    "def epoch_cosine_similarity(epoch_vecs):\n",
    "    acs_history = []\n",
    "    for vecs in epoch_vecs:\n",
    "        acs_history.append(all_cosine_similarity(vecs[:, 0, :], vecs[:, 1, :]))\n",
    "    return np.stack(acs_history, axis=0)"
   ]
  },
  {
   "cell_type": "code",
   "execution_count": 194,
   "metadata": {
    "collapsed": false
   },
   "outputs": [],
   "source": [
    "acs = epoch_cosine_similarity(validate_predictions)"
   ]
  },
  {
   "cell_type": "code",
   "execution_count": 195,
   "metadata": {
    "collapsed": false
   },
   "outputs": [
    {
     "data": {
      "text/plain": [
       "(121, 148)"
      ]
     },
     "execution_count": 195,
     "metadata": {},
     "output_type": "execute_result"
    }
   ],
   "source": [
    "acs.shape"
   ]
  },
  {
   "cell_type": "code",
   "execution_count": 236,
   "metadata": {
    "collapsed": false
   },
   "outputs": [
    {
     "name": "stderr",
     "output_type": "stream",
     "text": [
      "/anaconda3/lib/python3.5/site-packages/statsmodels/nonparametric/kdetools.py:20: VisibleDeprecationWarning: using a non-integer number instead of an integer will result in an error in the future\n",
      "  y = X[:m/2+1] + np.r_[0,X[m/2+1:],0]*1j\n"
     ]
    },
    {
     "data": {
      "image/png": "[encoded data removed]",
      "text/plain": [
       "<matplotlib.figure.Figure at 0x7fce59ad8ba8>"
      ]
     },
     "metadata": {},
     "output_type": "display_data"
    }
   ],
   "source": [
    "sns.distplot(acs[0].ravel(), bins=20, norm_hist=True, color='b', label='beginning')\n",
    "sns.distplot(acs[-1].ravel(), bins=20, norm_hist=True, color='g', label='after some epochs')\n",
    "plt.legend()\n",
    "plt.axes().get_yaxis().set_visible(False)\n",
    "plt.title(\"Cosine distribution\")\n",
    "plt.savefig('proof_of_generalization.png', dpi=300)"
   ]
  },
  {
   "cell_type": "code",
   "execution_count": 211,
   "metadata": {
    "collapsed": false
   },
   "outputs": [],
   "source": [
    "def np_append_zeros_to_each_inner(v, maxlen):\n",
    "    return np.hstack( (v, np.zeros( (v.shape[0], maxlen - v.shape[1]) ) ) )"
   ]
  },
  {
   "cell_type": "code",
   "execution_count": 212,
   "metadata": {
    "collapsed": true
   },
   "outputs": [],
   "source": [
    "def get_random_second_of_sound(sound):\n",
    "    sec_in_herz = 44100\n",
    "    i = random.randrange(sound.shape[0] - sec_in_herz)\n",
    "    return sound[i:i + sec_in_herz]"
   ]
  },
  {
   "cell_type": "code",
   "execution_count": 213,
   "metadata": {
    "collapsed": true
   },
   "outputs": [],
   "source": [
    "def load_f_sound(author, word):\n",
    "    return np_append_zeros_to_each_inner(to_furie(get_random_second_of_sound(to_numpy('dataset/b{}/{}.wav'.format(author, word)))), \n",
    "                                         1102)"
   ]
  },
  {
   "cell_type": "code",
   "execution_count": 214,
   "metadata": {
    "collapsed": true
   },
   "outputs": [],
   "source": [
    "class BadSoundException(Exception):\n",
    "    def __init__(self, author, word):\n",
    "        self.author = author\n",
    "        self.word = word"
   ]
  },
  {
   "cell_type": "code",
   "execution_count": 215,
   "metadata": {
    "collapsed": false
   },
   "outputs": [],
   "source": [
    "def train_sound(author1, word1, author2, word2, test=False):\n",
    "    try:\n",
    "        pieces1 = load_f_sound(author1, answer[word1])\n",
    "    except:\n",
    "        raise BadSoundException(author1, word1)\n",
    "        \n",
    "    try:\n",
    "        pieces2 = load_f_sound(author2, answer[word2])\n",
    "    except:\n",
    "        raise BadSoundException(author2, word2)\n",
    "        \n",
    "        \n",
    "    \n",
    "    length = pieces1.shape[0]\n",
    "    \n",
    "    pieces1 = np.array([[it] for it in pieces1], dtype='float64')\n",
    "    pieces2 = np.array([[it] for it in pieces2], dtype='float64')\n",
    "    y = np.array([author1 == author2] * length, dtype='int32')\n",
    "    \n",
    "    if test:\n",
    "        return y, predict(pieces1, pieces2)\n",
    "    else:\n",
    "        return train_fun(pieces1, pieces2, y)"
   ]
  },
  {
   "cell_type": "code",
   "execution_count": 161,
   "metadata": {
    "collapsed": false
   },
   "outputs": [],
   "source": [
    "def test_sound(author1, word1, author2, word2):\n",
    "    return train_sound(author1, word1, author2, word2, test=True)"
   ]
  },
  {
   "cell_type": "code",
   "execution_count": 46,
   "metadata": {
    "collapsed": false
   },
   "outputs": [],
   "source": [
    "def remove_word(author, word):\n",
    "    try:\n",
    "        train.drop(train.loc[(train.words == word) & (train.authors == author)].index, inplace = True)\n",
    "    except:\n",
    "        pass\n",
    "    \n",
    "    try:\n",
    "        test.drop(train.loc[(test.words == word) & (test.authors == author)].index, inplace = True)\n",
    "    except:\n",
    "        pass"
   ]
  },
  {
   "cell_type": "markdown",
   "metadata": {},
   "source": [
    "# Accurancy"
   ]
  },
  {
   "cell_type": "code",
   "execution_count": 47,
   "metadata": {
    "collapsed": false
   },
   "outputs": [],
   "source": [
    "def get_accurancy_once(max_tries = 25):\n",
    "    for _ in range(max_tries):\n",
    "        try:\n",
    "            data_to_test = test.sample(2)\n",
    "\n",
    "            data_to_test_words = data_to_test.words.values\n",
    "            data_to_test_authors = data_to_test.authors.values\n",
    "\n",
    "            y_true, y_predicted = test_sound(data_to_test_authors[0], data_to_test_words[0], \n",
    "                                              data_to_test_authors[1], data_to_test_words[1])\n",
    "\n",
    "            return accuracy_score(y_true, y_predicted)\n",
    "        \n",
    "        except BadSoundException as e:\n",
    "            remove_word(e.author, e.word)\n",
    "            \n",
    "            \n",
    "    return None"
   ]
  },
  {
   "cell_type": "code",
   "execution_count": 48,
   "metadata": {
    "collapsed": true
   },
   "outputs": [],
   "source": [
    "def get_accuracy(n=50):\n",
    "    accurances_with_nones = [get_accurancy_once() for _ in range(n)]\n",
    "    accurances = [it for it in accurances_with_nones if it != None]\n",
    "    return np.mean(accurances)"
   ]
  },
  {
   "cell_type": "markdown",
   "metadata": {},
   "source": [
    "# Train"
   ]
  },
  {
   "cell_type": "code",
   "execution_count": 49,
   "metadata": {
    "collapsed": false,
    "scrolled": true
   },
   "outputs": [
    {
     "name": "stdout",
     "output_type": "stream",
     "text": [
      "All authors Bar:\n"
     ]
    },
    {
     "ename": "NameError",
     "evalue": "name 'train' is not defined",
     "output_type": "error",
     "traceback": [
      "\u001b[0;31m---------------------------------------------------------------------------\u001b[0m",
      "\u001b[0;31mNameError\u001b[0m                                 Traceback (most recent call last)",
      "\u001b[0;32m<ipython-input-49-1946df053d0e>\u001b[0m in \u001b[0;36m<module>\u001b[0;34m()\u001b[0m\n\u001b[1;32m      4\u001b[0m \u001b[0;34m\u001b[0m\u001b[0m\n\u001b[1;32m      5\u001b[0m \u001b[0mprint\u001b[0m\u001b[0;34m(\u001b[0m\u001b[0;34m'All authors Bar:'\u001b[0m\u001b[0;34m)\u001b[0m\u001b[0;34m\u001b[0m\u001b[0m\n\u001b[0;32m----> 6\u001b[0;31m \u001b[0;32mfor\u001b[0m \u001b[0mauthor\u001b[0m \u001b[0;32min\u001b[0m \u001b[0mtrain\u001b[0m\u001b[0;34m.\u001b[0m\u001b[0mauthors\u001b[0m\u001b[0;34m:\u001b[0m\u001b[0;34m\u001b[0m\u001b[0m\n\u001b[0m\u001b[1;32m      7\u001b[0m \u001b[0;34m\u001b[0m\u001b[0m\n\u001b[1;32m      8\u001b[0m     \u001b[0mwords\u001b[0m \u001b[0;34m=\u001b[0m \u001b[0mtrain\u001b[0m\u001b[0;34m[\u001b[0m\u001b[0mtrain\u001b[0m\u001b[0;34m.\u001b[0m\u001b[0mauthors\u001b[0m \u001b[0;34m==\u001b[0m \u001b[0mauthor\u001b[0m\u001b[0;34m]\u001b[0m\u001b[0;34m.\u001b[0m\u001b[0mwords\u001b[0m\u001b[0;34m\u001b[0m\u001b[0m\n",
      "\u001b[0;31mNameError\u001b[0m: name 'train' is not defined"
     ]
    }
   ],
   "source": [
    "from sklearn.metrics import accuracy_score\n",
    "#bar = ProgressBar()\n",
    "\n",
    "\n",
    "print('All authors Bar:')\n",
    "for author in train.authors:\n",
    "    \n",
    "    words = train[train.authors == author].words\n",
    "    # TODO shuffle\n",
    "    \n",
    "    # train same person\n",
    "    print('bar1: # train same person')\n",
    "    #bar1 = ProgressBar(max_value=len(words) / 2)\n",
    "    for word1, word2 in zip(words[::2], words[1::2]):\n",
    "        try:\n",
    "            loss_, accuracy_ = train_sound(author, word1, author, word2)\n",
    "        except BadSoundException as e:\n",
    "            remove_word(e.author, e.word)\n",
    "            \n",
    "    # train not same person\n",
    "    print('bar2: # train not same person')\n",
    "    bar2 = ProgressBar(max_value=len(words))\n",
    "    for word in bar2(words):\n",
    "        other_authors = train[train.words == word].authors\n",
    "        \n",
    "        for other_author in other_authors:\n",
    "            try:\n",
    "                loss_, accuracy_ = train_sound(author, word, other_author, word)\n",
    "            except BadSoundException as e:\n",
    "                remove_word(e.author, e.word)\n",
    "\n",
    "    print(get_accuracy())"
   ]
  },
  {
   "cell_type": "code",
   "execution_count": null,
   "metadata": {
    "collapsed": false
   },
   "outputs": [],
   "source": [
    "get_accuracy()"
   ]
  },
  {
   "cell_type": "code",
   "execution_count": null,
   "metadata": {
    "collapsed": true
   },
   "outputs": [],
   "source": []
  }
 ],
 "metadata": {
  "anaconda-cloud": {},
  "kernelspec": {
   "display_name": "Python [default]",
   "language": "python",
   "name": "python3"
  },
  "language_info": {
   "codemirror_mode": {
    "name": "ipython",
    "version": 3
   },
   "file_extension": ".py",
   "mimetype": "text/x-python",
   "name": "python",
   "nbconvert_exporter": "python",
   "pygments_lexer": "ipython3",
   "version": "3.5.2"
  }
 },
 "nbformat": 4,
 "nbformat_minor": 0
}
