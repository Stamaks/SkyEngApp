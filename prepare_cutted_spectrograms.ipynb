{
 "cells": [
  {
   "cell_type": "code",
   "execution_count": 169,
   "metadata": {
    "collapsed": true
   },
   "outputs": [],
   "source": [
    "import os\n",
    "import pickle\n",
    "import librosa\n",
    "import numpy as np\n",
    "import pandas as pd\n",
    "import seaborn as sns\n",
    "\n",
    "import scipy.io.wavfile as wav\n",
    "from collections import Counter\n",
    "from matplotlib import pyplot as plt\n",
    "from IPython.display import clear_output\n",
    "\n",
    "from librosa.feature import melspectrogram\n",
    "from librosa import load, logamplitude\n",
    "\n",
    "np.set_printoptions(linewidth=250, suppress=True)\n",
    "\n",
    "%matplotlib inline"
   ]
  },
  {
   "cell_type": "code",
   "execution_count": 95,
   "metadata": {
    "collapsed": true
   },
   "outputs": [],
   "source": [
    "def find_durations(data, answer):\n",
    "    durations = {}\n",
    "    for i, author in enumerate(set(data.authors)):\n",
    "        for word in data[data.authors == author].words:\n",
    "            #print(os.listdir('dataset/b{}'.format(author)))\n",
    "            wname = 'speech_data/b{}/{}.wav'.format(author, answer[word])\n",
    "            if not os.path.isfile(wname):\n",
    "                fname = 'speech_data/b{}/{}.mp3'.format(author, answer[word])\n",
    "                oname = '/tmp/file.wav'\n",
    "                !lame '{fname}' --decode '{oname}' --quiet\n",
    "                !cp '{oname}' '{wname}'\n",
    "            sample_rate, timesequence = wav.read(wname)\n",
    "            if len(timesequence.shape) > 1:\n",
    "                timesequence = timesequence[:, 0]\n",
    "            durations[(author, word)] = timesequence.size / sample_rate\n",
    "    return durations"
   ]
  },
  {
   "cell_type": "code",
   "execution_count": null,
   "metadata": {
    "collapsed": true
   },
   "outputs": [],
   "source": [
    "durations = find_durations(data, answer)"
   ]
  },
  {
   "cell_type": "code",
   "execution_count": 125,
   "metadata": {
    "collapsed": false
   },
   "outputs": [
    {
     "name": "stderr",
     "output_type": "stream",
     "text": [
      "/anaconda3/lib/python3.5/site-packages/statsmodels/nonparametric/kdetools.py:20: VisibleDeprecationWarning: using a non-integer number instead of an integer will result in an error in the future\n",
      "  y = X[:m/2+1] + np.r_[0,X[m/2+1:],0]*1j\n"
     ]
    },
    {
     "data": {
      "text/plain": [
       "<matplotlib.axes._subplots.AxesSubplot at 0x7f26f1d96a20>"
      ]
     },
     "execution_count": 125,
     "metadata": {},
     "output_type": "execute_result"
    },
    {
     "data": {
      "image/png": "[encoded data removed]",
      "text/plain": [
       "<matplotlib.figure.Figure at 0x7f26f1e26eb8>"
      ]
     },
     "metadata": {},
     "output_type": "display_data"
    }
   ],
   "source": [
    "sns.distplot(list(durations.values()))"
   ]
  },
  {
   "cell_type": "code",
   "execution_count": null,
   "metadata": {
    "collapsed": false
   },
   "outputs": [
    {
     "name": "stdout",
     "output_type": "stream",
     "text": [
      "Can't init infile 'speech_data/bMshak/2797622731408234712.mp3'\n",
      "Can't init infile 'speech_data/bszurszuncik/-4947795336151861975.mp3'\n",
      "Can't init infile 'speech_data/bszurszuncik/-7183626479791404317.mp3'\n",
      "Can't init infile 'speech_data/bdisappointed/-950460213665267749.mp3'\n",
      "Can't init infile 'speech_data/bdisappointed/6027766216114243336.mp3'\n",
      "Can't init infile 'speech_data/bzhivaya/6142747929449266446.mp3'\n",
      "Can't init infile 'speech_data/b1640max/2324524844955058754.mp3'\n",
      "Can't init infile 'speech_data/b1640max/3063377735457069913.mp3'\n",
      "Can't init infile 'speech_data/bEgde/-3318315914358233874.mp3'\n"
     ]
    }
   ],
   "source": []
  },
  {
   "cell_type": "code",
   "execution_count": 131,
   "metadata": {
    "collapsed": true
   },
   "outputs": [],
   "source": [
    "def retrieve_sound_arrays(data, answer, unified_sample_rate=22050):\n",
    "    sequences = {}\n",
    "    #bar = ProgressBar()\n",
    "    for author in set(data.authors):\n",
    "        for word in data[data.authors == author].words:\n",
    "            fname = 'speech_data/b{}/{}.wav'.format(author, answer[word])\n",
    "            #oname = '/tmp/file.wav'\n",
    "            #!lame '{fname}' --decode '{oname}' --quiet\n",
    "            if os.path.isfile(fname):\n",
    "                timesequence, sample_rate = librosa.load(fname)\n",
    "                if len(timesequence.shape) > 1:\n",
    "                    timesequence = timesequence[:, 0]\n",
    "                if sample_rate != 22050:\n",
    "                    unified_timesequence = librosa.resample(np.asarray(timesequence, np.float32),\n",
    "                                                            sample_rate,\n",
    "                                                            unified_sample_rate)\n",
    "                else:\n",
    "                    unified_timesequence = np.array(timesequence, np.float32)\n",
    "                sequences[(author, word)] = timesequence\n",
    "            else:\n",
    "                sequences[(author, word)] = None\n",
    "            \n",
    "    return sequences"
   ]
  },
  {
   "cell_type": "code",
   "execution_count": 39,
   "metadata": {
    "collapsed": true
   },
   "outputs": [],
   "source": [
    "data = pd.DataFrame.from_csv('data.csv')\n",
    "answer = pickle.load(open('dataset/ajnsdjasnd.pcl','rb'))"
   ]
  },
  {
   "cell_type": "code",
   "execution_count": null,
   "metadata": {
    "collapsed": true
   },
   "outputs": [],
   "source": [
    "durations = find_durations(data, answer)"
   ]
  },
  {
   "cell_type": "code",
   "execution_count": 118,
   "metadata": {
    "collapsed": false
   },
   "outputs": [
    {
     "name": "stdout",
     "output_type": "stream",
     "text": [
      "3431577249605052561.mp3  3431577249605052561.wav\r\n"
     ]
    }
   ],
   "source": [
    "!ls speech_data/b1999"
   ]
  },
  {
   "cell_type": "code",
   "execution_count": null,
   "metadata": {
    "collapsed": true
   },
   "outputs": [],
   "source": []
  },
  {
   "cell_type": "code",
   "execution_count": 132,
   "metadata": {
    "collapsed": false
   },
   "outputs": [],
   "source": [
    "sequences = retrieve_sound_arrays(data, answer, unified_sample_rate=22050)"
   ]
  },
  {
   "cell_type": "code",
   "execution_count": 135,
   "metadata": {
    "collapsed": true
   },
   "outputs": [],
   "source": [
    "lengths = np.array([len(arr) for arr in sequences.values() if arr is not None])"
   ]
  },
  {
   "cell_type": "code",
   "execution_count": null,
   "metadata": {
    "collapsed": true
   },
   "outputs": [],
   "source": [
    "lengths = lengths / 22050"
   ]
  },
  {
   "cell_type": "code",
   "execution_count": 138,
   "metadata": {
    "collapsed": true
   },
   "outputs": [],
   "source": [
    "max_duration= 1.0\n",
    "unified_sample_rate=22050\n",
    "n_mels=128\n",
    "flush=True\n",
    "eps=0.0"
   ]
  },
  {
   "cell_type": "code",
   "execution_count": 139,
   "metadata": {
    "collapsed": true
   },
   "outputs": [],
   "source": [
    "max_samples = int(unified_sample_rate * max_duration)\n",
    "mask = np.ones(len(data), dtype=np.bool)\n",
    "\n",
    "matrix_index_counter = 0"
   ]
  },
  {
   "cell_type": "code",
   "execution_count": 140,
   "metadata": {
    "collapsed": true
   },
   "outputs": [],
   "source": [
    "for index, row in data.iterrows():\n",
    "    next_timesequence = sequences[(row['authors'], row['words'])]\n",
    "    if next_timesequence is None:\n",
    "        # there is no data for that track -- skip it\n",
    "        mask[index] = False\n",
    "    elif len(next_timesequence) / unified_sample_rate < max_duration - eps:\n",
    "        # track is too short -- skip it too\n",
    "        mask[index] = False\n",
    "    else:\n",
    "        # track is ok\n",
    "        continue"
   ]
  },
  {
   "cell_type": "code",
   "execution_count": 141,
   "metadata": {
    "collapsed": true
   },
   "outputs": [],
   "source": [
    "valid_data = data.ix[mask]"
   ]
  },
  {
   "cell_type": "code",
   "execution_count": 146,
   "metadata": {
    "collapsed": false
   },
   "outputs": [],
   "source": [
    "valid_count = len(valid_data)\n",
    "big_matrix = np.zeros((valid_count, max_samples), dtype=np.float32)\n",
    "track_lengths = np.zeros(valid_count, dtype=np.int)\n",
    "matrix_indices = np.arange(valid_count)"
   ]
  },
  {
   "cell_type": "code",
   "execution_count": 147,
   "metadata": {
    "collapsed": false
   },
   "outputs": [],
   "source": [
    "test_melspectrogram = melspectrogram(np.ones(max_samples), sr=unified_sample_rate, n_mels=n_mels)\n",
    "spectrograms = np.zeros((valid_count,) + test_melspectrogram.shape)"
   ]
  },
  {
   "cell_type": "code",
   "execution_count": 148,
   "metadata": {
    "collapsed": false
   },
   "outputs": [],
   "source": [
    "track_counter = 0\n",
    "#bar = ProgressBar()\n",
    "for _, row in valid_data.iterrows():\n",
    "    next_timesequence = sequences[(row['authors'], row['words'])]\n",
    "    # hack to handle a little shorter tracks\n",
    "    minsize_clipper = min(next_timesequence.size, max_samples)\n",
    "    big_matrix[track_counter, :minsize_clipper] = next_timesequence[:minsize_clipper]\n",
    "\n",
    "    spectrograms[track_counter, ...] = melspectrogram(np.pad(next_timesequence[:minsize_clipper],\n",
    "                                                     (0, max_samples - minsize_clipper),\n",
    "                                                     mode='constant'),\n",
    "                                              sr=unified_sample_rate, n_mels=n_mels)\n",
    "    track_counter += 1"
   ]
  },
  {
   "cell_type": "code",
   "execution_count": 149,
   "metadata": {
    "collapsed": false
   },
   "outputs": [
    {
     "name": "stderr",
     "output_type": "stream",
     "text": [
      "/anaconda3/lib/python3.5/site-packages/pandas/indexes/api.py:71: RuntimeWarning: unorderable types: str() < int(), sort order is undefined for incomparable objects\n",
      "  result = result.union(other)\n"
     ]
    }
   ],
   "source": [
    "vd = pd.concat([valid_data, pd.Series()])"
   ]
  },
  {
   "cell_type": "code",
   "execution_count": null,
   "metadata": {
    "collapsed": true
   },
   "outputs": [],
   "source": [
    "pd.Series"
   ]
  },
  {
   "cell_type": "code",
   "execution_count": 150,
   "metadata": {
    "collapsed": false
   },
   "outputs": [
    {
     "data": {
      "text/html": [
       "<div>\n",
       "<table border=\"1\" class=\"dataframe\">\n",
       "  <thead>\n",
       "    <tr style=\"text-align: right;\">\n",
       "      <th></th>\n",
       "      <th>words</th>\n",
       "      <th>authors</th>\n",
       "      <th>links</th>\n",
       "    </tr>\n",
       "  </thead>\n",
       "  <tbody>\n",
       "    <tr>\n",
       "      <th>0</th>\n",
       "      <td>Бенилюкс</td>\n",
       "      <td>ivga</td>\n",
       "      <td>http://ru.forvo.com/word/%D0%B1%D0%B5%D0%BD%D0...</td>\n",
       "    </tr>\n",
       "    <tr>\n",
       "      <th>1</th>\n",
       "      <td>большая гармония гласных</td>\n",
       "      <td>rutre15</td>\n",
       "      <td>http://ru.forvo.com/word/%D0%B1%D0%BE%D0%BB%D1...</td>\n",
       "    </tr>\n",
       "    <tr>\n",
       "      <th>2</th>\n",
       "      <td>малая гармония гласных</td>\n",
       "      <td>rutre15</td>\n",
       "      <td>http://ru.forvo.com/word/%D0%BC%D0%B0%D0%BB%D0...</td>\n",
       "    </tr>\n",
       "    <tr>\n",
       "      <th>3</th>\n",
       "      <td>бумажный стаканчик</td>\n",
       "      <td>Patient228</td>\n",
       "      <td>http://ru.forvo.com/word/%D0%B1%D1%83%D0%BC%D0...</td>\n",
       "    </tr>\n",
       "    <tr>\n",
       "      <th>4</th>\n",
       "      <td>бумажный стаканчик</td>\n",
       "      <td>rutre15</td>\n",
       "      <td>http://ru.forvo.com/word/%D0%B1%D1%83%D0%BC%D0...</td>\n",
       "    </tr>\n",
       "    <tr>\n",
       "      <th>5</th>\n",
       "      <td>будьте любезны</td>\n",
       "      <td>Patient228</td>\n",
       "      <td>http://ru.forvo.com/word/%D0%B1%D1%83%D0%B4%D1...</td>\n",
       "    </tr>\n",
       "    <tr>\n",
       "      <th>6</th>\n",
       "      <td>будьте любезны</td>\n",
       "      <td>rutre15</td>\n",
       "      <td>http://ru.forvo.com/word/%D0%B1%D1%83%D0%B4%D1...</td>\n",
       "    </tr>\n",
       "    <tr>\n",
       "      <th>7</th>\n",
       "      <td>улыбчивые</td>\n",
       "      <td>lidadusya</td>\n",
       "      <td>http://ru.forvo.com/word/%D1%83%D0%BB%D1%8B%D0...</td>\n",
       "    </tr>\n",
       "    <tr>\n",
       "      <th>8</th>\n",
       "      <td>стаканчик мороженого</td>\n",
       "      <td>Patient228</td>\n",
       "      <td>http://ru.forvo.com/word/%D1%81%D1%82%D0%B0%D0...</td>\n",
       "    </tr>\n",
       "    <tr>\n",
       "      <th>9</th>\n",
       "      <td>стаканчик мороженого</td>\n",
       "      <td>lidadusya</td>\n",
       "      <td>http://ru.forvo.com/word/%D1%81%D1%82%D0%B0%D0...</td>\n",
       "    </tr>\n",
       "    <tr>\n",
       "      <th>10</th>\n",
       "      <td>экстремизму</td>\n",
       "      <td>lidadusya</td>\n",
       "      <td>http://ru.forvo.com/word/%D1%8D%D0%BA%D1%81%D1...</td>\n",
       "    </tr>\n",
       "    <tr>\n",
       "      <th>12</th>\n",
       "      <td>гармония гласных</td>\n",
       "      <td>lidadusya</td>\n",
       "      <td>http://ru.forvo.com/word/%D0%B3%D0%B0%D1%80%D0...</td>\n",
       "    </tr>\n",
       "    <tr>\n",
       "      <th>13</th>\n",
       "      <td>мороженом</td>\n",
       "      <td>szurszuncik</td>\n",
       "      <td>http://ru.forvo.com/word/%D0%BC%D0%BE%D1%80%D0...</td>\n",
       "    </tr>\n",
       "    <tr>\n",
       "      <th>14</th>\n",
       "      <td>мороженому</td>\n",
       "      <td>szurszuncik</td>\n",
       "      <td>http://ru.forvo.com/word/%D0%BC%D0%BE%D1%80%D0...</td>\n",
       "    </tr>\n",
       "    <tr>\n",
       "      <th>16</th>\n",
       "      <td>Собор Воскресения Христова на Крови</td>\n",
       "      <td>rutre15</td>\n",
       "      <td>http://ru.forvo.com/word/%D1%81%D0%BE%D0%B1%D0...</td>\n",
       "    </tr>\n",
       "    <tr>\n",
       "      <th>17</th>\n",
       "      <td>Собор Воскресения Христова на Крови</td>\n",
       "      <td>Patient228</td>\n",
       "      <td>http://ru.forvo.com/word/%D1%81%D0%BE%D0%B1%D0...</td>\n",
       "    </tr>\n",
       "    <tr>\n",
       "      <th>18</th>\n",
       "      <td>Собор Воскресения Христова на Крови</td>\n",
       "      <td>zibrova_valeriia</td>\n",
       "      <td>http://ru.forvo.com/word/%D1%81%D0%BE%D0%B1%D0...</td>\n",
       "    </tr>\n",
       "    <tr>\n",
       "      <th>20</th>\n",
       "      <td>арт</td>\n",
       "      <td>Tatar</td>\n",
       "      <td>http://ru.forvo.com/word/%D0%B0%D1%80%D1%82/</td>\n",
       "    </tr>\n",
       "    <tr>\n",
       "      <th>23</th>\n",
       "      <td>арт</td>\n",
       "      <td>rutre15</td>\n",
       "      <td>http://ru.forvo.com/word/%D0%B0%D1%80%D1%82/</td>\n",
       "    </tr>\n",
       "    <tr>\n",
       "      <th>24</th>\n",
       "      <td>в крови</td>\n",
       "      <td>Patient228</td>\n",
       "      <td>http://ru.forvo.com/word/%D0%B2_%D0%BA%D1%80%D...</td>\n",
       "    </tr>\n",
       "    <tr>\n",
       "      <th>28</th>\n",
       "      <td>АТС</td>\n",
       "      <td>galari</td>\n",
       "      <td>http://ru.forvo.com/word/%D0%B0%D1%82%D1%81/</td>\n",
       "    </tr>\n",
       "    <tr>\n",
       "      <th>30</th>\n",
       "      <td>аутрайт</td>\n",
       "      <td>Patient228</td>\n",
       "      <td>http://ru.forvo.com/word/%D0%B0%D1%83%D1%82%D1...</td>\n",
       "    </tr>\n",
       "    <tr>\n",
       "      <th>31</th>\n",
       "      <td>байга</td>\n",
       "      <td>AqQoyriq</td>\n",
       "      <td>http://ru.forvo.com/word/%D0%B1%D0%B0%D0%B9%D0...</td>\n",
       "    </tr>\n",
       "    <tr>\n",
       "      <th>33</th>\n",
       "      <td>инаугурации</td>\n",
       "      <td>Patient228</td>\n",
       "      <td>http://ru.forvo.com/word/%D0%B8%D0%BD%D0%B0%D1...</td>\n",
       "    </tr>\n",
       "    <tr>\n",
       "      <th>34</th>\n",
       "      <td>старшим</td>\n",
       "      <td>Patient228</td>\n",
       "      <td>http://ru.forvo.com/word/%D1%81%D1%82%D0%B0%D1...</td>\n",
       "    </tr>\n",
       "    <tr>\n",
       "      <th>35</th>\n",
       "      <td>подписания</td>\n",
       "      <td>Patient228</td>\n",
       "      <td>http://ru.forvo.com/word/%D0%BF%D0%BE%D0%B4%D0...</td>\n",
       "    </tr>\n",
       "    <tr>\n",
       "      <th>37</th>\n",
       "      <td>Азеф</td>\n",
       "      <td>Patient228</td>\n",
       "      <td>http://ru.forvo.com/word/%D0%B0%D0%B7%D0%B5%D1...</td>\n",
       "    </tr>\n",
       "    <tr>\n",
       "      <th>38</th>\n",
       "      <td>автохория</td>\n",
       "      <td>AqQoyriq</td>\n",
       "      <td>http://ru.forvo.com/word/%D0%B0%D0%B2%D1%82%D0...</td>\n",
       "    </tr>\n",
       "    <tr>\n",
       "      <th>39</th>\n",
       "      <td>автохория</td>\n",
       "      <td>Patient228</td>\n",
       "      <td>http://ru.forvo.com/word/%D0%B0%D0%B2%D1%82%D0...</td>\n",
       "    </tr>\n",
       "    <tr>\n",
       "      <th>40</th>\n",
       "      <td>от идеи</td>\n",
       "      <td>Patient228</td>\n",
       "      <td>http://ru.forvo.com/word/%D0%BE%D1%82_%D0%B8%D...</td>\n",
       "    </tr>\n",
       "    <tr>\n",
       "      <th>...</th>\n",
       "      <td>...</td>\n",
       "      <td>...</td>\n",
       "      <td>...</td>\n",
       "    </tr>\n",
       "    <tr>\n",
       "      <th>4103</th>\n",
       "      <td>радиочастота</td>\n",
       "      <td>genie_ghoul</td>\n",
       "      <td>http://ru.forvo.com/word/%D1%80%D0%B0%D0%B4%D0...</td>\n",
       "    </tr>\n",
       "    <tr>\n",
       "      <th>4104</th>\n",
       "      <td>радиочастотный</td>\n",
       "      <td>suok</td>\n",
       "      <td>http://ru.forvo.com/word/%D1%80%D0%B0%D0%B4%D0...</td>\n",
       "    </tr>\n",
       "    <tr>\n",
       "      <th>4105</th>\n",
       "      <td>радиочастотный</td>\n",
       "      <td>genie_ghoul</td>\n",
       "      <td>http://ru.forvo.com/word/%D1%80%D0%B0%D0%B4%D0...</td>\n",
       "    </tr>\n",
       "    <tr>\n",
       "      <th>4106</th>\n",
       "      <td>антенно-фидерный</td>\n",
       "      <td>BorisK</td>\n",
       "      <td>http://ru.forvo.com/word/%D0%B0%D0%BD%D1%82%D0...</td>\n",
       "    </tr>\n",
       "    <tr>\n",
       "      <th>4107</th>\n",
       "      <td>антенно-фидерный</td>\n",
       "      <td>genie_ghoul</td>\n",
       "      <td>http://ru.forvo.com/word/%D0%B0%D0%BD%D1%82%D0...</td>\n",
       "    </tr>\n",
       "    <tr>\n",
       "      <th>4108</th>\n",
       "      <td>волновод</td>\n",
       "      <td>SvetaBerdaus</td>\n",
       "      <td>http://ru.forvo.com/word/%D0%B2%D0%BE%D0%BB%D0...</td>\n",
       "    </tr>\n",
       "    <tr>\n",
       "      <th>4109</th>\n",
       "      <td>волновод</td>\n",
       "      <td>genie_ghoul</td>\n",
       "      <td>http://ru.forvo.com/word/%D0%B2%D0%BE%D0%BB%D0...</td>\n",
       "    </tr>\n",
       "    <tr>\n",
       "      <th>4111</th>\n",
       "      <td>фидер</td>\n",
       "      <td>genie_ghoul</td>\n",
       "      <td>http://ru.forvo.com/word/%D1%84%D0%B8%D0%B4%D0...</td>\n",
       "    </tr>\n",
       "    <tr>\n",
       "      <th>4112</th>\n",
       "      <td>телекоммуникационный</td>\n",
       "      <td>lookyanoff</td>\n",
       "      <td>http://ru.forvo.com/word/%D1%82%D0%B5%D0%BB%D0...</td>\n",
       "    </tr>\n",
       "    <tr>\n",
       "      <th>4113</th>\n",
       "      <td>телекоммуникационный</td>\n",
       "      <td>genie_ghoul</td>\n",
       "      <td>http://ru.forvo.com/word/%D1%82%D0%B5%D0%BB%D0...</td>\n",
       "    </tr>\n",
       "    <tr>\n",
       "      <th>4115</th>\n",
       "      <td>менеджмент</td>\n",
       "      <td>alexsokol</td>\n",
       "      <td>http://ru.forvo.com/word/%D0%BC%D0%B5%D0%BD%D0...</td>\n",
       "    </tr>\n",
       "    <tr>\n",
       "      <th>4116</th>\n",
       "      <td>менеджмент</td>\n",
       "      <td>Eugenia_Ivlieva</td>\n",
       "      <td>http://ru.forvo.com/word/%D0%BC%D0%B5%D0%BD%D0...</td>\n",
       "    </tr>\n",
       "    <tr>\n",
       "      <th>4117</th>\n",
       "      <td>менеджмент</td>\n",
       "      <td>1640max</td>\n",
       "      <td>http://ru.forvo.com/word/%D0%BC%D0%B5%D0%BD%D0...</td>\n",
       "    </tr>\n",
       "    <tr>\n",
       "      <th>4118</th>\n",
       "      <td>менеджмент</td>\n",
       "      <td>genie_ghoul</td>\n",
       "      <td>http://ru.forvo.com/word/%D0%BC%D0%B5%D0%BD%D0...</td>\n",
       "    </tr>\n",
       "    <tr>\n",
       "      <th>4119</th>\n",
       "      <td>менеджмент</td>\n",
       "      <td>AqQoyriq</td>\n",
       "      <td>http://ru.forvo.com/word/%D0%BC%D0%B5%D0%BD%D0...</td>\n",
       "    </tr>\n",
       "    <tr>\n",
       "      <th>4120</th>\n",
       "      <td>менеджмент</td>\n",
       "      <td>tarasylo</td>\n",
       "      <td>http://ru.forvo.com/word/%D0%BC%D0%B5%D0%BD%D0...</td>\n",
       "    </tr>\n",
       "    <tr>\n",
       "      <th>4121</th>\n",
       "      <td>спектральный</td>\n",
       "      <td>sanych</td>\n",
       "      <td>http://ru.forvo.com/word/%D1%81%D0%BF%D0%B5%D0...</td>\n",
       "    </tr>\n",
       "    <tr>\n",
       "      <th>4123</th>\n",
       "      <td>модуляция</td>\n",
       "      <td>alarsso</td>\n",
       "      <td>http://ru.forvo.com/word/%D0%BC%D0%BE%D0%B4%D1...</td>\n",
       "    </tr>\n",
       "    <tr>\n",
       "      <th>4126</th>\n",
       "      <td>динамический</td>\n",
       "      <td>sanych</td>\n",
       "      <td>http://ru.forvo.com/word/%D0%B4%D0%B8%D0%BD%D0...</td>\n",
       "    </tr>\n",
       "    <tr>\n",
       "      <th>4127</th>\n",
       "      <td>динамический</td>\n",
       "      <td>Maximka</td>\n",
       "      <td>http://ru.forvo.com/word/%D0%B4%D0%B8%D0%BD%D0...</td>\n",
       "    </tr>\n",
       "    <tr>\n",
       "      <th>4128</th>\n",
       "      <td>динамический</td>\n",
       "      <td>genie_ghoul</td>\n",
       "      <td>http://ru.forvo.com/word/%D0%B4%D0%B8%D0%BD%D0...</td>\n",
       "    </tr>\n",
       "    <tr>\n",
       "      <th>4130</th>\n",
       "      <td>аналоговый</td>\n",
       "      <td>genie_ghoul</td>\n",
       "      <td>http://ru.forvo.com/word/%D0%B0%D0%BD%D0%B0%D0...</td>\n",
       "    </tr>\n",
       "    <tr>\n",
       "      <th>4135</th>\n",
       "      <td>волоконно-оптический</td>\n",
       "      <td>Artistee</td>\n",
       "      <td>http://ru.forvo.com/word/%D0%B2%D0%BE%D0%BB%D0...</td>\n",
       "    </tr>\n",
       "    <tr>\n",
       "      <th>4136</th>\n",
       "      <td>волоконно-оптический</td>\n",
       "      <td>genie_ghoul</td>\n",
       "      <td>http://ru.forvo.com/word/%D0%B2%D0%BE%D0%BB%D0...</td>\n",
       "    </tr>\n",
       "    <tr>\n",
       "      <th>4137</th>\n",
       "      <td>радиосвязь</td>\n",
       "      <td>NeolingvaCom</td>\n",
       "      <td>http://ru.forvo.com/word/%D1%80%D0%B0%D0%B4%D0...</td>\n",
       "    </tr>\n",
       "    <tr>\n",
       "      <th>4138</th>\n",
       "      <td>радиосвязь</td>\n",
       "      <td>Maximka</td>\n",
       "      <td>http://ru.forvo.com/word/%D1%80%D0%B0%D0%B4%D0...</td>\n",
       "    </tr>\n",
       "    <tr>\n",
       "      <th>4139</th>\n",
       "      <td>радиосвязь</td>\n",
       "      <td>genie_ghoul</td>\n",
       "      <td>http://ru.forvo.com/word/%D1%80%D0%B0%D0%B4%D0...</td>\n",
       "    </tr>\n",
       "    <tr>\n",
       "      <th>4140</th>\n",
       "      <td>поливинилхлорид</td>\n",
       "      <td>AqQoyriq</td>\n",
       "      <td>http://ru.forvo.com/word/%D0%BF%D0%BE%D0%BB%D0...</td>\n",
       "    </tr>\n",
       "    <tr>\n",
       "      <th>4141</th>\n",
       "      <td>поливинилхлорид</td>\n",
       "      <td>MassEbu</td>\n",
       "      <td>http://ru.forvo.com/word/%D0%BF%D0%BE%D0%BB%D0...</td>\n",
       "    </tr>\n",
       "    <tr>\n",
       "      <th>4142</th>\n",
       "      <td>поливинилхлорид</td>\n",
       "      <td>genie_ghoul</td>\n",
       "      <td>http://ru.forvo.com/word/%D0%BF%D0%BE%D0%BB%D0...</td>\n",
       "    </tr>\n",
       "  </tbody>\n",
       "</table>\n",
       "<p>2677 rows × 3 columns</p>\n",
       "</div>"
      ],
      "text/plain": [
       "                                    words           authors  \\\n",
       "0                                Бенилюкс              ivga   \n",
       "1                большая гармония гласных           rutre15   \n",
       "2                  малая гармония гласных           rutre15   \n",
       "3                      бумажный стаканчик        Patient228   \n",
       "4                      бумажный стаканчик           rutre15   \n",
       "5                          будьте любезны        Patient228   \n",
       "6                          будьте любезны           rutre15   \n",
       "7                               улыбчивые         lidadusya   \n",
       "8                    стаканчик мороженого        Patient228   \n",
       "9                    стаканчик мороженого         lidadusya   \n",
       "10                            экстремизму         lidadusya   \n",
       "12                       гармония гласных         lidadusya   \n",
       "13                              мороженом       szurszuncik   \n",
       "14                             мороженому       szurszuncik   \n",
       "16    Собор Воскресения Христова на Крови           rutre15   \n",
       "17    Собор Воскресения Христова на Крови        Patient228   \n",
       "18    Собор Воскресения Христова на Крови  zibrova_valeriia   \n",
       "20                                    арт             Tatar   \n",
       "23                                    арт           rutre15   \n",
       "24                                в крови        Patient228   \n",
       "28                                    АТС            galari   \n",
       "30                                аутрайт        Patient228   \n",
       "31                                  байга          AqQoyriq   \n",
       "33                            инаугурации        Patient228   \n",
       "34                                старшим        Patient228   \n",
       "35                             подписания        Patient228   \n",
       "37                                   Азеф        Patient228   \n",
       "38                              автохория          AqQoyriq   \n",
       "39                              автохория        Patient228   \n",
       "40                                от идеи        Patient228   \n",
       "...                                   ...               ...   \n",
       "4103                         радиочастота       genie_ghoul   \n",
       "4104                       радиочастотный              suok   \n",
       "4105                       радиочастотный       genie_ghoul   \n",
       "4106                     антенно-фидерный            BorisK   \n",
       "4107                     антенно-фидерный       genie_ghoul   \n",
       "4108                             волновод      SvetaBerdaus   \n",
       "4109                             волновод       genie_ghoul   \n",
       "4111                                фидер       genie_ghoul   \n",
       "4112                 телекоммуникационный        lookyanoff   \n",
       "4113                 телекоммуникационный       genie_ghoul   \n",
       "4115                           менеджмент         alexsokol   \n",
       "4116                           менеджмент   Eugenia_Ivlieva   \n",
       "4117                           менеджмент           1640max   \n",
       "4118                           менеджмент       genie_ghoul   \n",
       "4119                           менеджмент          AqQoyriq   \n",
       "4120                           менеджмент          tarasylo   \n",
       "4121                         спектральный            sanych   \n",
       "4123                            модуляция           alarsso   \n",
       "4126                         динамический            sanych   \n",
       "4127                         динамический           Maximka   \n",
       "4128                         динамический       genie_ghoul   \n",
       "4130                           аналоговый       genie_ghoul   \n",
       "4135                 волоконно-оптический          Artistee   \n",
       "4136                 волоконно-оптический       genie_ghoul   \n",
       "4137                           радиосвязь      NeolingvaCom   \n",
       "4138                           радиосвязь           Maximka   \n",
       "4139                           радиосвязь       genie_ghoul   \n",
       "4140                      поливинилхлорид          AqQoyriq   \n",
       "4141                      поливинилхлорид           MassEbu   \n",
       "4142                      поливинилхлорид       genie_ghoul   \n",
       "\n",
       "                                                  links  \n",
       "0     http://ru.forvo.com/word/%D0%B1%D0%B5%D0%BD%D0...  \n",
       "1     http://ru.forvo.com/word/%D0%B1%D0%BE%D0%BB%D1...  \n",
       "2     http://ru.forvo.com/word/%D0%BC%D0%B0%D0%BB%D0...  \n",
       "3     http://ru.forvo.com/word/%D0%B1%D1%83%D0%BC%D0...  \n",
       "4     http://ru.forvo.com/word/%D0%B1%D1%83%D0%BC%D0...  \n",
       "5     http://ru.forvo.com/word/%D0%B1%D1%83%D0%B4%D1...  \n",
       "6     http://ru.forvo.com/word/%D0%B1%D1%83%D0%B4%D1...  \n",
       "7     http://ru.forvo.com/word/%D1%83%D0%BB%D1%8B%D0...  \n",
       "8     http://ru.forvo.com/word/%D1%81%D1%82%D0%B0%D0...  \n",
       "9     http://ru.forvo.com/word/%D1%81%D1%82%D0%B0%D0...  \n",
       "10    http://ru.forvo.com/word/%D1%8D%D0%BA%D1%81%D1...  \n",
       "12    http://ru.forvo.com/word/%D0%B3%D0%B0%D1%80%D0...  \n",
       "13    http://ru.forvo.com/word/%D0%BC%D0%BE%D1%80%D0...  \n",
       "14    http://ru.forvo.com/word/%D0%BC%D0%BE%D1%80%D0...  \n",
       "16    http://ru.forvo.com/word/%D1%81%D0%BE%D0%B1%D0...  \n",
       "17    http://ru.forvo.com/word/%D1%81%D0%BE%D0%B1%D0...  \n",
       "18    http://ru.forvo.com/word/%D1%81%D0%BE%D0%B1%D0...  \n",
       "20         http://ru.forvo.com/word/%D0%B0%D1%80%D1%82/  \n",
       "23         http://ru.forvo.com/word/%D0%B0%D1%80%D1%82/  \n",
       "24    http://ru.forvo.com/word/%D0%B2_%D0%BA%D1%80%D...  \n",
       "28         http://ru.forvo.com/word/%D0%B0%D1%82%D1%81/  \n",
       "30    http://ru.forvo.com/word/%D0%B0%D1%83%D1%82%D1...  \n",
       "31    http://ru.forvo.com/word/%D0%B1%D0%B0%D0%B9%D0...  \n",
       "33    http://ru.forvo.com/word/%D0%B8%D0%BD%D0%B0%D1...  \n",
       "34    http://ru.forvo.com/word/%D1%81%D1%82%D0%B0%D1...  \n",
       "35    http://ru.forvo.com/word/%D0%BF%D0%BE%D0%B4%D0...  \n",
       "37    http://ru.forvo.com/word/%D0%B0%D0%B7%D0%B5%D1...  \n",
       "38    http://ru.forvo.com/word/%D0%B0%D0%B2%D1%82%D0...  \n",
       "39    http://ru.forvo.com/word/%D0%B0%D0%B2%D1%82%D0...  \n",
       "40    http://ru.forvo.com/word/%D0%BE%D1%82_%D0%B8%D...  \n",
       "...                                                 ...  \n",
       "4103  http://ru.forvo.com/word/%D1%80%D0%B0%D0%B4%D0...  \n",
       "4104  http://ru.forvo.com/word/%D1%80%D0%B0%D0%B4%D0...  \n",
       "4105  http://ru.forvo.com/word/%D1%80%D0%B0%D0%B4%D0...  \n",
       "4106  http://ru.forvo.com/word/%D0%B0%D0%BD%D1%82%D0...  \n",
       "4107  http://ru.forvo.com/word/%D0%B0%D0%BD%D1%82%D0...  \n",
       "4108  http://ru.forvo.com/word/%D0%B2%D0%BE%D0%BB%D0...  \n",
       "4109  http://ru.forvo.com/word/%D0%B2%D0%BE%D0%BB%D0...  \n",
       "4111  http://ru.forvo.com/word/%D1%84%D0%B8%D0%B4%D0...  \n",
       "4112  http://ru.forvo.com/word/%D1%82%D0%B5%D0%BB%D0...  \n",
       "4113  http://ru.forvo.com/word/%D1%82%D0%B5%D0%BB%D0...  \n",
       "4115  http://ru.forvo.com/word/%D0%BC%D0%B5%D0%BD%D0...  \n",
       "4116  http://ru.forvo.com/word/%D0%BC%D0%B5%D0%BD%D0...  \n",
       "4117  http://ru.forvo.com/word/%D0%BC%D0%B5%D0%BD%D0...  \n",
       "4118  http://ru.forvo.com/word/%D0%BC%D0%B5%D0%BD%D0...  \n",
       "4119  http://ru.forvo.com/word/%D0%BC%D0%B5%D0%BD%D0...  \n",
       "4120  http://ru.forvo.com/word/%D0%BC%D0%B5%D0%BD%D0...  \n",
       "4121  http://ru.forvo.com/word/%D1%81%D0%BF%D0%B5%D0...  \n",
       "4123  http://ru.forvo.com/word/%D0%BC%D0%BE%D0%B4%D1...  \n",
       "4126  http://ru.forvo.com/word/%D0%B4%D0%B8%D0%BD%D0...  \n",
       "4127  http://ru.forvo.com/word/%D0%B4%D0%B8%D0%BD%D0...  \n",
       "4128  http://ru.forvo.com/word/%D0%B4%D0%B8%D0%BD%D0...  \n",
       "4130  http://ru.forvo.com/word/%D0%B0%D0%BD%D0%B0%D0...  \n",
       "4135  http://ru.forvo.com/word/%D0%B2%D0%BE%D0%BB%D0...  \n",
       "4136  http://ru.forvo.com/word/%D0%B2%D0%BE%D0%BB%D0...  \n",
       "4137  http://ru.forvo.com/word/%D1%80%D0%B0%D0%B4%D0...  \n",
       "4138  http://ru.forvo.com/word/%D1%80%D0%B0%D0%B4%D0...  \n",
       "4139  http://ru.forvo.com/word/%D1%80%D0%B0%D0%B4%D0...  \n",
       "4140  http://ru.forvo.com/word/%D0%BF%D0%BE%D0%BB%D0...  \n",
       "4141  http://ru.forvo.com/word/%D0%BF%D0%BE%D0%BB%D0...  \n",
       "4142  http://ru.forvo.com/word/%D0%BF%D0%BE%D0%BB%D0...  \n",
       "\n",
       "[2677 rows x 3 columns]"
      ]
     },
     "execution_count": 150,
     "metadata": {},
     "output_type": "execute_result"
    }
   ],
   "source": [
    "valid_data"
   ]
  },
  {
   "cell_type": "code",
   "execution_count": 167,
   "metadata": {
    "collapsed": false
   },
   "outputs": [],
   "source": [
    "def build_array_and_dataframe(data, sequences, fname=\"valid_data\", max_duration=0.5,\n",
    "                              unified_sample_rate=22050, n_fft=128, flush=True, eps=0.0):\n",
    "    max_samples = int(unified_sample_rate * max_duration)\n",
    "    mask = np.ones(len(data), dtype=np.bool)\n",
    "        \n",
    "    matrix_index_counter = 0\n",
    "    for index, row in data.iterrows():\n",
    "        next_timesequence = sequences[(row['authors'], row['words'])]\n",
    "        if next_timesequence is None:\n",
    "            # there is no data for that track -- skip it\n",
    "            mask[index] = False\n",
    "        elif len(next_timesequence) / unified_sample_rate < max_duration - eps:\n",
    "            # track is too short -- skip it too\n",
    "            mask[index] = False\n",
    "        else:\n",
    "            # track is ok\n",
    "            continue\n",
    "    \n",
    "    valid_data = data.ix[mask]\n",
    "    valid_count = len(valid_data)\n",
    "    big_matrix = np.zeros((valid_count, max_samples), dtype=np.float32)\n",
    "    track_lengths = np.zeros(valid_count, dtype=np.int)\n",
    "    matrix_indices = np.arange(valid_count)\n",
    "    \n",
    "    # find how many frames return melspectrogram at chosen duration\n",
    "    test_melspectrogram = melspectrogram(np.ones(max_samples), sr=unified_sample_rate, n_fft=n_fft)\n",
    "    spectrograms = np.zeros((valid_count,) + test_melspectrogram.shape)\n",
    "\n",
    "    track_counter = 0\n",
    "    #bar = ProgressBar()\n",
    "    for _, row in valid_data.iterrows():\n",
    "        next_timesequence = sequences[(row['authors'], row['words'])]\n",
    "        # hack to handle a little shorter tracks\n",
    "        minsize_clipper = min(next_timesequence.size, max_samples)\n",
    "        big_matrix[track_counter, :minsize_clipper] = next_timesequence[:minsize_clipper]\n",
    "        \n",
    "        S = melspectrogram(np.pad(next_timesequence[:minsize_clipper],\n",
    "                                                         (0, max_samples - minsize_clipper),\n",
    "                                                         mode='constant'),\n",
    "                                                  sr=unified_sample_rate, n_fft=n_fft)\n",
    "        logS = logamplitude(S, ref_power=np.max)\n",
    "        spectrograms[track_counter, ...] = logS\n",
    "        track_counter += 1\n",
    "        \n",
    "    valid_data.loc[:,'matrix_index'] = pd.Series(matrix_indices, index=valid_data.index)\n",
    "    if flush:\n",
    "        valid_data.to_csv(\"{}.csv\".format(fname))\n",
    "        mat_spec_dict = {\n",
    "            'timesequences': big_matrix,\n",
    "            'spectrograms': spectrograms\n",
    "        }\n",
    "        np.savez('{}'.format(fname), mat_spec_dict)\n",
    "    return valid_data, mat_spec_dict"
   ]
  },
  {
   "cell_type": "code",
   "execution_count": 170,
   "metadata": {
    "collapsed": false
   },
   "outputs": [
    {
     "name": "stderr",
     "output_type": "stream",
     "text": [
      "/anaconda3/lib/python3.5/site-packages/pandas/core/indexing.py:296: SettingWithCopyWarning: \n",
      "A value is trying to be set on a copy of a slice from a DataFrame.\n",
      "Try using .loc[row_indexer,col_indexer] = value instead\n",
      "\n",
      "See the caveats in the documentation: http://pandas.pydata.org/pandas-docs/stable/indexing.html#indexing-view-versus-copy\n",
      "  self.obj[key] = _infer_fill_value(value)\n",
      "/anaconda3/lib/python3.5/site-packages/pandas/core/indexing.py:476: SettingWithCopyWarning: \n",
      "A value is trying to be set on a copy of a slice from a DataFrame.\n",
      "Try using .loc[row_indexer,col_indexer] = value instead\n",
      "\n",
      "See the caveats in the documentation: http://pandas.pydata.org/pandas-docs/stable/indexing.html#indexing-view-versus-copy\n",
      "  self.obj[item] = s\n"
     ]
    }
   ],
   "source": [
    "vdata, vmatrix = build_array_and_dataframe(data, sequences)"
   ]
  },
  {
   "cell_type": "code",
   "execution_count": 171,
   "metadata": {
    "collapsed": false
   },
   "outputs": [],
   "source": [
    "def retrieve_preprocessed_data(fname='valid_data'):\n",
    "    data_from_file = np.load('{}.npz'.format(fname))\n",
    "    data_table = pd.read_csv('{}.csv'.format(fname))\n",
    "    data_dict = np.asscalar(data_from_file['arr_0'])\n",
    "    return data_table, data_dict['timesequences'], data_dict['spectrograms']"
   ]
  },
  {
   "cell_type": "code",
   "execution_count": 172,
   "metadata": {
    "collapsed": false
   },
   "outputs": [],
   "source": [
    "valid_data, valid_timesequences, valid_spectrograms = retrieve_preprocessed_data('valid_data')"
   ]
  },
  {
   "cell_type": "code",
   "execution_count": null,
   "metadata": {
    "collapsed": true
   },
   "outputs": [],
   "source": []
  },
  {
   "cell_type": "code",
   "execution_count": 160,
   "metadata": {
    "collapsed": false
   },
   "outputs": [
    {
     "data": {
      "text/plain": [
       "array([ 1.05904762,  1.32027211,  1.71210884, ...,  1.73823129,  1.60761905,  0.56272109])"
      ]
     },
     "execution_count": 160,
     "metadata": {},
     "output_type": "execute_result"
    }
   ],
   "source": [
    "lengths"
   ]
  },
  {
   "cell_type": "code",
   "execution_count": 161,
   "metadata": {
    "collapsed": false
   },
   "outputs": [
    {
     "data": {
      "text/plain": [
       "(4088, 128, 22)"
      ]
     },
     "execution_count": 161,
     "metadata": {},
     "output_type": "execute_result"
    }
   ],
   "source": [
    "valid_spectrograms.shape"
   ]
  },
  {
   "cell_type": "code",
   "execution_count": 159,
   "metadata": {
    "collapsed": false
   },
   "outputs": [
    {
     "ename": "NameError",
     "evalue": "name 'vdata_from_file' is not defined",
     "output_type": "error",
     "traceback": [
      "\u001b[0;31m---------------------------------------------------------------------------\u001b[0m",
      "\u001b[0;31mNameError\u001b[0m                                 Traceback (most recent call last)",
      "\u001b[0;32m<ipython-input-159-858fe99fc826>\u001b[0m in \u001b[0;36m<module>\u001b[0;34m()\u001b[0m\n\u001b[0;32m----> 1\u001b[0;31m \u001b[0mtype\u001b[0m\u001b[0;34m(\u001b[0m\u001b[0mnp\u001b[0m\u001b[0;34m.\u001b[0m\u001b[0masscalar\u001b[0m\u001b[0;34m(\u001b[0m\u001b[0mvdata_from_file\u001b[0m\u001b[0;34m[\u001b[0m\u001b[0;34m'arr_0'\u001b[0m\u001b[0;34m]\u001b[0m\u001b[0;34m)\u001b[0m\u001b[0;34m)\u001b[0m\u001b[0;34m\u001b[0m\u001b[0m\n\u001b[0m",
      "\u001b[0;31mNameError\u001b[0m: name 'vdata_from_file' is not defined"
     ]
    }
   ],
   "source": [
    "type(np.asscalar(vdata_from_file['arr_0']))"
   ]
  },
  {
   "cell_type": "code",
   "execution_count": 144,
   "metadata": {
    "collapsed": false
   },
   "outputs": [
    {
     "data": {
      "text/html": [
       "<div>\n",
       "<table border=\"1\" class=\"dataframe\">\n",
       "  <thead>\n",
       "    <tr style=\"text-align: right;\">\n",
       "      <th></th>\n",
       "      <th>words</th>\n",
       "      <th>authors</th>\n",
       "      <th>links</th>\n",
       "    </tr>\n",
       "  </thead>\n",
       "  <tbody>\n",
       "    <tr>\n",
       "      <th>6767</th>\n",
       "      <td>посещать</td>\n",
       "      <td>arina</td>\n",
       "      <td>http://ru.forvo.com/word/%D0%BF%D0%BE%D1%81%D0...</td>\n",
       "    </tr>\n",
       "  </tbody>\n",
       "</table>\n",
       "</div>"
      ],
      "text/plain": [
       "         words authors                                              links\n",
       "6767  посещать   arina  http://ru.forvo.com/word/%D0%BF%D0%BE%D1%81%D0..."
      ]
     },
     "execution_count": 144,
     "metadata": {},
     "output_type": "execute_result"
    }
   ],
   "source": [
    "data.loc[np.array((data['authors'] == lst[0][0]) & (data['words'] == lst[0][1]))]"
   ]
  },
  {
   "cell_type": "code",
   "execution_count": 130,
   "metadata": {
    "collapsed": false
   },
   "outputs": [
    {
     "ename": "KeyError",
     "evalue": "0",
     "output_type": "error",
     "traceback": [
      "\u001b[1;31m---------------------------------------------------------------------------\u001b[0m",
      "\u001b[1;31mKeyError\u001b[0m                                  Traceback (most recent call last)",
      "\u001b[1;32m/root/anaconda3/lib/python3.5/site-packages/pandas/indexes/base.py\u001b[0m in \u001b[0;36mget_loc\u001b[1;34m(self, key, method, tolerance)\u001b[0m\n\u001b[0;32m   1875\u001b[0m             \u001b[1;32mtry\u001b[0m\u001b[1;33m:\u001b[0m\u001b[1;33m\u001b[0m\u001b[0m\n\u001b[1;32m-> 1876\u001b[1;33m                 \u001b[1;32mreturn\u001b[0m \u001b[0mself\u001b[0m\u001b[1;33m.\u001b[0m\u001b[0m_engine\u001b[0m\u001b[1;33m.\u001b[0m\u001b[0mget_loc\u001b[0m\u001b[1;33m(\u001b[0m\u001b[0mkey\u001b[0m\u001b[1;33m)\u001b[0m\u001b[1;33m\u001b[0m\u001b[0m\n\u001b[0m\u001b[0;32m   1877\u001b[0m             \u001b[1;32mexcept\u001b[0m \u001b[0mKeyError\u001b[0m\u001b[1;33m:\u001b[0m\u001b[1;33m\u001b[0m\u001b[0m\n",
      "\u001b[1;32mpandas/index.pyx\u001b[0m in \u001b[0;36mpandas.index.IndexEngine.get_loc (pandas/index.c:4027)\u001b[1;34m()\u001b[0m\n",
      "\u001b[1;32mpandas/index.pyx\u001b[0m in \u001b[0;36mpandas.index.IndexEngine.get_loc (pandas/index.c:3891)\u001b[1;34m()\u001b[0m\n",
      "\u001b[1;32mpandas/hashtable.pyx\u001b[0m in \u001b[0;36mpandas.hashtable.PyObjectHashTable.get_item (pandas/hashtable.c:12408)\u001b[1;34m()\u001b[0m\n",
      "\u001b[1;32mpandas/hashtable.pyx\u001b[0m in \u001b[0;36mpandas.hashtable.PyObjectHashTable.get_item (pandas/hashtable.c:12359)\u001b[1;34m()\u001b[0m\n",
      "\u001b[1;31mKeyError\u001b[0m: 0",
      "\nDuring handling of the above exception, another exception occurred:\n",
      "\u001b[1;31mKeyError\u001b[0m                                  Traceback (most recent call last)",
      "\u001b[1;32m<ipython-input-130-a8c72f481711>\u001b[0m in \u001b[0;36m<module>\u001b[1;34m()\u001b[0m\n\u001b[1;32m----> 1\u001b[1;33m \u001b[0mdata\u001b[0m\u001b[1;33m[\u001b[0m\u001b[1;33m:\u001b[0m\u001b[1;36m1\u001b[0m\u001b[1;33m]\u001b[0m\u001b[1;33m[\u001b[0m\u001b[1;36m0\u001b[0m\u001b[1;33m]\u001b[0m\u001b[1;33m\u001b[0m\u001b[0m\n\u001b[0m",
      "\u001b[1;32m/root/anaconda3/lib/python3.5/site-packages/pandas/core/frame.py\u001b[0m in \u001b[0;36m__getitem__\u001b[1;34m(self, key)\u001b[0m\n\u001b[0;32m   1990\u001b[0m             \u001b[1;32mreturn\u001b[0m \u001b[0mself\u001b[0m\u001b[1;33m.\u001b[0m\u001b[0m_getitem_multilevel\u001b[0m\u001b[1;33m(\u001b[0m\u001b[0mkey\u001b[0m\u001b[1;33m)\u001b[0m\u001b[1;33m\u001b[0m\u001b[0m\n\u001b[0;32m   1991\u001b[0m         \u001b[1;32melse\u001b[0m\u001b[1;33m:\u001b[0m\u001b[1;33m\u001b[0m\u001b[0m\n\u001b[1;32m-> 1992\u001b[1;33m             \u001b[1;32mreturn\u001b[0m \u001b[0mself\u001b[0m\u001b[1;33m.\u001b[0m\u001b[0m_getitem_column\u001b[0m\u001b[1;33m(\u001b[0m\u001b[0mkey\u001b[0m\u001b[1;33m)\u001b[0m\u001b[1;33m\u001b[0m\u001b[0m\n\u001b[0m\u001b[0;32m   1993\u001b[0m \u001b[1;33m\u001b[0m\u001b[0m\n\u001b[0;32m   1994\u001b[0m     \u001b[1;32mdef\u001b[0m \u001b[0m_getitem_column\u001b[0m\u001b[1;33m(\u001b[0m\u001b[0mself\u001b[0m\u001b[1;33m,\u001b[0m \u001b[0mkey\u001b[0m\u001b[1;33m)\u001b[0m\u001b[1;33m:\u001b[0m\u001b[1;33m\u001b[0m\u001b[0m\n",
      "\u001b[1;32m/root/anaconda3/lib/python3.5/site-packages/pandas/core/frame.py\u001b[0m in \u001b[0;36m_getitem_column\u001b[1;34m(self, key)\u001b[0m\n\u001b[0;32m   1997\u001b[0m         \u001b[1;31m# get column\u001b[0m\u001b[1;33m\u001b[0m\u001b[1;33m\u001b[0m\u001b[0m\n\u001b[0;32m   1998\u001b[0m         \u001b[1;32mif\u001b[0m \u001b[0mself\u001b[0m\u001b[1;33m.\u001b[0m\u001b[0mcolumns\u001b[0m\u001b[1;33m.\u001b[0m\u001b[0mis_unique\u001b[0m\u001b[1;33m:\u001b[0m\u001b[1;33m\u001b[0m\u001b[0m\n\u001b[1;32m-> 1999\u001b[1;33m             \u001b[1;32mreturn\u001b[0m \u001b[0mself\u001b[0m\u001b[1;33m.\u001b[0m\u001b[0m_get_item_cache\u001b[0m\u001b[1;33m(\u001b[0m\u001b[0mkey\u001b[0m\u001b[1;33m)\u001b[0m\u001b[1;33m\u001b[0m\u001b[0m\n\u001b[0m\u001b[0;32m   2000\u001b[0m \u001b[1;33m\u001b[0m\u001b[0m\n\u001b[0;32m   2001\u001b[0m         \u001b[1;31m# duplicate columns & possible reduce dimensionality\u001b[0m\u001b[1;33m\u001b[0m\u001b[1;33m\u001b[0m\u001b[0m\n",
      "\u001b[1;32m/root/anaconda3/lib/python3.5/site-packages/pandas/core/generic.py\u001b[0m in \u001b[0;36m_get_item_cache\u001b[1;34m(self, item)\u001b[0m\n\u001b[0;32m   1343\u001b[0m         \u001b[0mres\u001b[0m \u001b[1;33m=\u001b[0m \u001b[0mcache\u001b[0m\u001b[1;33m.\u001b[0m\u001b[0mget\u001b[0m\u001b[1;33m(\u001b[0m\u001b[0mitem\u001b[0m\u001b[1;33m)\u001b[0m\u001b[1;33m\u001b[0m\u001b[0m\n\u001b[0;32m   1344\u001b[0m         \u001b[1;32mif\u001b[0m \u001b[0mres\u001b[0m \u001b[1;32mis\u001b[0m \u001b[1;32mNone\u001b[0m\u001b[1;33m:\u001b[0m\u001b[1;33m\u001b[0m\u001b[0m\n\u001b[1;32m-> 1345\u001b[1;33m             \u001b[0mvalues\u001b[0m \u001b[1;33m=\u001b[0m \u001b[0mself\u001b[0m\u001b[1;33m.\u001b[0m\u001b[0m_data\u001b[0m\u001b[1;33m.\u001b[0m\u001b[0mget\u001b[0m\u001b[1;33m(\u001b[0m\u001b[0mitem\u001b[0m\u001b[1;33m)\u001b[0m\u001b[1;33m\u001b[0m\u001b[0m\n\u001b[0m\u001b[0;32m   1346\u001b[0m             \u001b[0mres\u001b[0m \u001b[1;33m=\u001b[0m \u001b[0mself\u001b[0m\u001b[1;33m.\u001b[0m\u001b[0m_box_item_values\u001b[0m\u001b[1;33m(\u001b[0m\u001b[0mitem\u001b[0m\u001b[1;33m,\u001b[0m \u001b[0mvalues\u001b[0m\u001b[1;33m)\u001b[0m\u001b[1;33m\u001b[0m\u001b[0m\n\u001b[0;32m   1347\u001b[0m             \u001b[0mcache\u001b[0m\u001b[1;33m[\u001b[0m\u001b[0mitem\u001b[0m\u001b[1;33m]\u001b[0m \u001b[1;33m=\u001b[0m \u001b[0mres\u001b[0m\u001b[1;33m\u001b[0m\u001b[0m\n",
      "\u001b[1;32m/root/anaconda3/lib/python3.5/site-packages/pandas/core/internals.py\u001b[0m in \u001b[0;36mget\u001b[1;34m(self, item, fastpath)\u001b[0m\n\u001b[0;32m   3223\u001b[0m \u001b[1;33m\u001b[0m\u001b[0m\n\u001b[0;32m   3224\u001b[0m             \u001b[1;32mif\u001b[0m \u001b[1;32mnot\u001b[0m \u001b[0misnull\u001b[0m\u001b[1;33m(\u001b[0m\u001b[0mitem\u001b[0m\u001b[1;33m)\u001b[0m\u001b[1;33m:\u001b[0m\u001b[1;33m\u001b[0m\u001b[0m\n\u001b[1;32m-> 3225\u001b[1;33m                 \u001b[0mloc\u001b[0m \u001b[1;33m=\u001b[0m \u001b[0mself\u001b[0m\u001b[1;33m.\u001b[0m\u001b[0mitems\u001b[0m\u001b[1;33m.\u001b[0m\u001b[0mget_loc\u001b[0m\u001b[1;33m(\u001b[0m\u001b[0mitem\u001b[0m\u001b[1;33m)\u001b[0m\u001b[1;33m\u001b[0m\u001b[0m\n\u001b[0m\u001b[0;32m   3226\u001b[0m             \u001b[1;32melse\u001b[0m\u001b[1;33m:\u001b[0m\u001b[1;33m\u001b[0m\u001b[0m\n\u001b[0;32m   3227\u001b[0m                 \u001b[0mindexer\u001b[0m \u001b[1;33m=\u001b[0m \u001b[0mnp\u001b[0m\u001b[1;33m.\u001b[0m\u001b[0marange\u001b[0m\u001b[1;33m(\u001b[0m\u001b[0mlen\u001b[0m\u001b[1;33m(\u001b[0m\u001b[0mself\u001b[0m\u001b[1;33m.\u001b[0m\u001b[0mitems\u001b[0m\u001b[1;33m)\u001b[0m\u001b[1;33m)\u001b[0m\u001b[1;33m[\u001b[0m\u001b[0misnull\u001b[0m\u001b[1;33m(\u001b[0m\u001b[0mself\u001b[0m\u001b[1;33m.\u001b[0m\u001b[0mitems\u001b[0m\u001b[1;33m)\u001b[0m\u001b[1;33m]\u001b[0m\u001b[1;33m\u001b[0m\u001b[0m\n",
      "\u001b[1;32m/root/anaconda3/lib/python3.5/site-packages/pandas/indexes/base.py\u001b[0m in \u001b[0;36mget_loc\u001b[1;34m(self, key, method, tolerance)\u001b[0m\n\u001b[0;32m   1876\u001b[0m                 \u001b[1;32mreturn\u001b[0m \u001b[0mself\u001b[0m\u001b[1;33m.\u001b[0m\u001b[0m_engine\u001b[0m\u001b[1;33m.\u001b[0m\u001b[0mget_loc\u001b[0m\u001b[1;33m(\u001b[0m\u001b[0mkey\u001b[0m\u001b[1;33m)\u001b[0m\u001b[1;33m\u001b[0m\u001b[0m\n\u001b[0;32m   1877\u001b[0m             \u001b[1;32mexcept\u001b[0m \u001b[0mKeyError\u001b[0m\u001b[1;33m:\u001b[0m\u001b[1;33m\u001b[0m\u001b[0m\n\u001b[1;32m-> 1878\u001b[1;33m                 \u001b[1;32mreturn\u001b[0m \u001b[0mself\u001b[0m\u001b[1;33m.\u001b[0m\u001b[0m_engine\u001b[0m\u001b[1;33m.\u001b[0m\u001b[0mget_loc\u001b[0m\u001b[1;33m(\u001b[0m\u001b[0mself\u001b[0m\u001b[1;33m.\u001b[0m\u001b[0m_maybe_cast_indexer\u001b[0m\u001b[1;33m(\u001b[0m\u001b[0mkey\u001b[0m\u001b[1;33m)\u001b[0m\u001b[1;33m)\u001b[0m\u001b[1;33m\u001b[0m\u001b[0m\n\u001b[0m\u001b[0;32m   1879\u001b[0m \u001b[1;33m\u001b[0m\u001b[0m\n\u001b[0;32m   1880\u001b[0m         \u001b[0mindexer\u001b[0m \u001b[1;33m=\u001b[0m \u001b[0mself\u001b[0m\u001b[1;33m.\u001b[0m\u001b[0mget_indexer\u001b[0m\u001b[1;33m(\u001b[0m\u001b[1;33m[\u001b[0m\u001b[0mkey\u001b[0m\u001b[1;33m]\u001b[0m\u001b[1;33m,\u001b[0m \u001b[0mmethod\u001b[0m\u001b[1;33m=\u001b[0m\u001b[0mmethod\u001b[0m\u001b[1;33m,\u001b[0m \u001b[0mtolerance\u001b[0m\u001b[1;33m=\u001b[0m\u001b[0mtolerance\u001b[0m\u001b[1;33m)\u001b[0m\u001b[1;33m\u001b[0m\u001b[0m\n",
      "\u001b[1;32mpandas/index.pyx\u001b[0m in \u001b[0;36mpandas.index.IndexEngine.get_loc (pandas/index.c:4027)\u001b[1;34m()\u001b[0m\n",
      "\u001b[1;32mpandas/index.pyx\u001b[0m in \u001b[0;36mpandas.index.IndexEngine.get_loc (pandas/index.c:3891)\u001b[1;34m()\u001b[0m\n",
      "\u001b[1;32mpandas/hashtable.pyx\u001b[0m in \u001b[0;36mpandas.hashtable.PyObjectHashTable.get_item (pandas/hashtable.c:12408)\u001b[1;34m()\u001b[0m\n",
      "\u001b[1;32mpandas/hashtable.pyx\u001b[0m in \u001b[0;36mpandas.hashtable.PyObjectHashTable.get_item (pandas/hashtable.c:12359)\u001b[1;34m()\u001b[0m\n",
      "\u001b[1;31mKeyError\u001b[0m: 0"
     ]
    }
   ],
   "source": []
  },
  {
   "cell_type": "code",
   "execution_count": 30,
   "metadata": {
    "collapsed": false
   },
   "outputs": [],
   "source": [
    "durations = find_durations(data, answer)"
   ]
  },
  {
   "cell_type": "code",
   "execution_count": 162,
   "metadata": {
    "collapsed": false
   },
   "outputs": [],
   "source": [
    "dur_values = np.array(list(durations.values()))"
   ]
  },
  {
   "cell_type": "code",
   "execution_count": 163,
   "metadata": {
    "collapsed": false
   },
   "outputs": [
    {
     "name": "stderr",
     "output_type": "stream",
     "text": [
      "/anaconda3/lib/python3.5/site-packages/statsmodels/nonparametric/kdetools.py:20: VisibleDeprecationWarning: using a non-integer number instead of an integer will result in an error in the future\n",
      "  y = X[:m/2+1] + np.r_[0,X[m/2+1:],0]*1j\n"
     ]
    },
    {
     "data": {
      "text/plain": [
       "<matplotlib.axes._subplots.AxesSubplot at 0x7f26e7abf978>"
      ]
     },
     "execution_count": 163,
     "metadata": {},
     "output_type": "execute_result"
    },
    {
     "data": {
      "image/png": "[encoded data removed]",
      "text/plain": [
       "<matplotlib.figure.Figure at 0x7f26e7abfdd8>"
      ]
     },
     "metadata": {},
     "output_type": "display_data"
    }
   ],
   "source": [
    "sns.plt.figure(figsize=(10, 6))\n",
    "sns.plt.title('distribution of sound lengths')\n",
    "sns.plt.xlabel('time, sec')\n",
    "sns.distplot(lengths)\n",
    "#sns.plt.savefig('soundlength_distribution.png', dpi=150)"
   ]
  },
  {
   "cell_type": "code",
   "execution_count": 164,
   "metadata": {
    "collapsed": false
   },
   "outputs": [
    {
     "data": {
      "text/plain": [
       "0.6149659863945578"
      ]
     },
     "execution_count": 164,
     "metadata": {},
     "output_type": "execute_result"
    }
   ],
   "source": [
    "np.percentile(lengths, 5)"
   ]
  },
  {
   "cell_type": "code",
   "execution_count": 72,
   "metadata": {
    "collapsed": false
   },
   "outputs": [
    {
     "data": {
      "text/plain": [
       "3.2271882086167802"
      ]
     },
     "execution_count": 72,
     "metadata": {},
     "output_type": "execute_result"
    }
   ],
   "source": [
    "dur_values.max()"
   ]
  },
  {
   "cell_type": "code",
   "execution_count": 7,
   "metadata": {
    "collapsed": false
   },
   "outputs": [],
   "source": [
    "data = pd.DataFrame.from_csv('data.csv')\n",
    "answer = pickle.load(open('dataset/ajnsdjasnd.pcl','rb'))"
   ]
  },
  {
   "cell_type": "code",
   "execution_count": 8,
   "metadata": {
    "collapsed": false
   },
   "outputs": [],
   "source": [
    "ex_author = data.authors[0]\n",
    "ex_word = data[data.authors == ex_author].words[0]\n",
    "fname = 'dataset/b{}/{}.mp3'.format(ex_author, answer[ex_word])"
   ]
  },
  {
   "cell_type": "code",
   "execution_count": 14,
   "metadata": {
    "collapsed": false
   },
   "outputs": [
    {
     "ename": "NoBackendError",
     "evalue": "",
     "output_type": "error",
     "traceback": [
      "\u001b[1;31m---------------------------------------------------------------------------\u001b[0m",
      "\u001b[1;31mNoBackendError\u001b[0m                            Traceback (most recent call last)",
      "\u001b[1;32m<ipython-input-14-2bd4d882a1c5>\u001b[0m in \u001b[0;36m<module>\u001b[1;34m()\u001b[0m\n\u001b[1;32m----> 1\u001b[1;33m \u001b[0mlibrosa\u001b[0m\u001b[1;33m.\u001b[0m\u001b[0mload\u001b[0m\u001b[1;33m(\u001b[0m\u001b[0mfname\u001b[0m\u001b[1;33m)\u001b[0m\u001b[1;33m\u001b[0m\u001b[0m\n\u001b[0m",
      "\u001b[1;32m/root/anaconda3/lib/python3.5/site-packages/librosa/core/audio.py\u001b[0m in \u001b[0;36mload\u001b[1;34m(path, sr, mono, offset, duration, dtype)\u001b[0m\n\u001b[0;32m    107\u001b[0m \u001b[1;33m\u001b[0m\u001b[0m\n\u001b[0;32m    108\u001b[0m     \u001b[0my\u001b[0m \u001b[1;33m=\u001b[0m \u001b[1;33m[\u001b[0m\u001b[1;33m]\u001b[0m\u001b[1;33m\u001b[0m\u001b[0m\n\u001b[1;32m--> 109\u001b[1;33m     \u001b[1;32mwith\u001b[0m \u001b[0maudioread\u001b[0m\u001b[1;33m.\u001b[0m\u001b[0maudio_open\u001b[0m\u001b[1;33m(\u001b[0m\u001b[0mos\u001b[0m\u001b[1;33m.\u001b[0m\u001b[0mpath\u001b[0m\u001b[1;33m.\u001b[0m\u001b[0mrealpath\u001b[0m\u001b[1;33m(\u001b[0m\u001b[0mpath\u001b[0m\u001b[1;33m)\u001b[0m\u001b[1;33m)\u001b[0m \u001b[1;32mas\u001b[0m \u001b[0minput_file\u001b[0m\u001b[1;33m:\u001b[0m\u001b[1;33m\u001b[0m\u001b[0m\n\u001b[0m\u001b[0;32m    110\u001b[0m         \u001b[0msr_native\u001b[0m \u001b[1;33m=\u001b[0m \u001b[0minput_file\u001b[0m\u001b[1;33m.\u001b[0m\u001b[0msamplerate\u001b[0m\u001b[1;33m\u001b[0m\u001b[0m\n\u001b[0;32m    111\u001b[0m         \u001b[0mn_channels\u001b[0m \u001b[1;33m=\u001b[0m \u001b[0minput_file\u001b[0m\u001b[1;33m.\u001b[0m\u001b[0mchannels\u001b[0m\u001b[1;33m\u001b[0m\u001b[0m\n",
      "\u001b[1;32m/root/anaconda3/lib/python3.5/site-packages/audioread/__init__.py\u001b[0m in \u001b[0;36maudio_open\u001b[1;34m(path)\u001b[0m\n\u001b[0;32m    112\u001b[0m \u001b[1;33m\u001b[0m\u001b[0m\n\u001b[0;32m    113\u001b[0m     \u001b[1;31m# All backends failed!\u001b[0m\u001b[1;33m\u001b[0m\u001b[1;33m\u001b[0m\u001b[0m\n\u001b[1;32m--> 114\u001b[1;33m     \u001b[1;32mraise\u001b[0m \u001b[0mNoBackendError\u001b[0m\u001b[1;33m(\u001b[0m\u001b[1;33m)\u001b[0m\u001b[1;33m\u001b[0m\u001b[0m\n\u001b[0m",
      "\u001b[1;31mNoBackendError\u001b[0m: "
     ]
    }
   ],
   "source": [
    "librosa.load(fname)"
   ]
  },
  {
   "cell_type": "code",
   "execution_count": null,
   "metadata": {
    "collapsed": true
   },
   "outputs": [],
   "source": [
    "def get_spectgorgamm(fname): \n",
    "    y, sr = librosa.load(fname) \n",
    "    S = librosa.feature.melspectrogram(y, sr=sr, n_mels=128) \n",
    "    log_S = librosa.logamplitude(S, ref_power=np.max) \n",
    "    return log_S[:,:1200]"
   ]
  },
  {
   "cell_type": "code",
   "execution_count": 159,
   "metadata": {
    "collapsed": false
   },
   "outputs": [
    {
     "data": {
      "text/plain": [
       "2149.1146087646484"
      ]
     },
     "execution_count": 159,
     "metadata": {},
     "output_type": "execute_result"
    }
   ],
   "source": [
    "3.5 * 22050 * 4 * 7300 / 1024 / 1024"
   ]
  },
  {
   "cell_type": "code",
   "execution_count": 2,
   "metadata": {
    "collapsed": false
   },
   "outputs": [
    {
     "ename": "NameError",
     "evalue": "name 'predict' is not defined",
     "output_type": "error",
     "traceback": [
      "\u001b[0;31m---------------------------------------------------------------------------\u001b[0m",
      "\u001b[0;31mNameError\u001b[0m                                 Traceback (most recent call last)",
      "\u001b[0;32m<ipython-input-2-19be86c8c029>\u001b[0m in \u001b[0;36m<module>\u001b[0;34m()\u001b[0m\n\u001b[0;32m----> 1\u001b[0;31m \u001b[0mpredict\u001b[0m\u001b[0;34m(\u001b[0m\u001b[0;34m)\u001b[0m\u001b[0;34m\u001b[0m\u001b[0m\n\u001b[0m",
      "\u001b[0;31mNameError\u001b[0m: name 'predict' is not defined"
     ]
    }
   ],
   "source": [
    "predict()"
   ]
  }
 ],
 "metadata": {
  "kernelspec": {
   "display_name": "Python [default]",
   "language": "python",
   "name": "python3"
  },
  "language_info": {
   "codemirror_mode": {
    "name": "ipython",
    "version": 3
   },
   "file_extension": ".py",
   "mimetype": "text/x-python",
   "name": "python",
   "nbconvert_exporter": "python",
   "pygments_lexer": "ipython3",
   "version": "3.5.2"
  }
 },
 "nbformat": 4,
 "nbformat_minor": 0
}
